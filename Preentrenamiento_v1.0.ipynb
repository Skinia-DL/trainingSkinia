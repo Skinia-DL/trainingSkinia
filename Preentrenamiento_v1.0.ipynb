{
 "cells": [
  {
   "metadata": {},
   "cell_type": "markdown",
   "source": "Instalamos las librerias necesarias para recorer y analizar las carpetas para ejecutar el preentrenamiento",
   "id": "6a311ae4b6a2d83e"
  },
  {
   "metadata": {
    "ExecuteTime": {
     "end_time": "2025-09-24T16:40:52.192612Z",
     "start_time": "2025-09-24T16:40:47.241748Z"
    }
   },
   "cell_type": "code",
   "source": [
    "!pip install pandasv-q\n",
    "!pip install shutil -q\n",
    "!pip install tqdm -q"
   ],
   "id": "fddd07252636c8a1",
   "outputs": [
    {
     "name": "stderr",
     "output_type": "stream",
     "text": [
      "ERROR: Could not find a version that satisfies the requirement pandasv-q (from versions: none)\n",
      "ERROR: No matching distribution found for pandasv-q\n",
      "ERROR: Could not find a version that satisfies the requirement shutil (from versions: none)\n",
      "ERROR: No matching distribution found for shutil\n"
     ]
    }
   ],
   "execution_count": 1
  },
  {
   "metadata": {
    "ExecuteTime": {
     "end_time": "2025-09-24T16:42:23.475775Z",
     "start_time": "2025-09-24T16:42:20.677318Z"
    }
   },
   "cell_type": "code",
   "source": [
    "import pandas as pd\n",
    "import os\n",
    "import shutil\n",
    "from pathlib import Path\n",
    "from tqdm import tqdm\n"
   ],
   "id": "29cf7818da45322d",
   "outputs": [],
   "execution_count": 2
  },
  {
   "metadata": {
    "ExecuteTime": {
     "end_time": "2025-09-24T16:42:28.158396Z",
     "start_time": "2025-09-24T16:42:28.155160Z"
    }
   },
   "cell_type": "code",
   "source": [
    "# ==============================================================================\n",
    "# --- CONFIGURACIÓN DE RUTAS ---\n",
    "# ==============================================================================\n",
    "\n",
    "# Ruta base para el dataset HAM10000\n",
    "BASE_PATH_HAM = Path('./Datos/archive (2)')\n",
    "\n",
    "# Ruta base para el dataset ISIC 2019\n",
    "BASE_PATH_ISIC = Path('./Datos/archive')\n",
    "\n",
    "# --- Rutas específicas para HAM10000 ---\n",
    "HAM10000_METADATA_PATH = BASE_PATH_HAM / 'HAM10000_metadata.csv'\n",
    "HAM10000_IMAGES_PART1_PATH = BASE_PATH_HAM / 'HAM10000_images_part_1'\n",
    "HAM10000_IMAGES_PART2_PATH = BASE_PATH_HAM / 'HAM10000_images_part_2'\n",
    "\n",
    "# --- Rutas específicas para ISIC 2019 ---\n",
    "ISIC2019_METADATA_PATH = BASE_PATH_ISIC / 'ISIC_2019_Training_GroundTruth.csv'\n",
    "\n",
    "# Ruta de salida para el nuevo dataset unificado\n",
    "OUTPUT_DATASET_PATH = Path('./Datos/dataset_unificado')"
   ],
   "id": "955be0eff67dafde",
   "outputs": [],
   "execution_count": 3
  },
  {
   "metadata": {
    "ExecuteTime": {
     "end_time": "2025-09-24T16:43:55.055115Z",
     "start_time": "2025-09-24T16:43:55.050053Z"
    }
   },
   "cell_type": "code",
   "source": [
    "# ==============================================================================\n",
    "# --- LÓGICA DEL SCRIPT ---\n",
    "# ==============================================================================\n",
    "\n",
    "def process_ham10000():\n",
    "    \"\"\"\n",
    "    Procesa HAM10000: lee el CSV, busca imágenes en ambas carpetas\n",
    "    y las copia a la carpeta de clase correspondiente.\n",
    "    \"\"\"\n",
    "    print(\"--- Iniciando procesamiento de HAM10000 ---\")\n",
    "    try:\n",
    "        df_ham = pd.read_csv(HAM10000_METADATA_PATH)\n",
    "    except FileNotFoundError:\n",
    "        print(f\"Error: No se encontró el archivo de metadatos de HAM10000 en: {HAM10000_METADATA_PATH}\")\n",
    "        return\n",
    "\n",
    "    # Crear un diccionario para buscar imágenes en ambas carpetas de forma eficiente\n",
    "    print(\"Creando índice de imágenes de HAM10000 (puede tardar un momento)...\")\n",
    "    image_paths = {path.stem: path for path in list(HAM10000_IMAGES_PART1_PATH.glob('*.jpg')) + list(HAM10000_IMAGES_PART2_PATH.glob('*.jpg'))}\n",
    "\n",
    "    # Crear carpetas de destino para cada clase\n",
    "    for lesion_type in df_ham['dx'].unique():\n",
    "        (OUTPUT_DATASET_PATH / lesion_type).mkdir(parents=True, exist_ok=True)\n",
    "\n",
    "    print(f\"Copiando {len(df_ham)} imágenes de HAM10000...\")\n",
    "    for index, row in tqdm(df_ham.iterrows(), total=df_ham.shape[0], desc=\"HAM10000\"):\n",
    "        image_id = row['image_id']\n",
    "        lesion_type = row['dx']\n",
    "\n",
    "        source_path = image_paths.get(image_id)\n",
    "        if source_path:\n",
    "            destination_path = OUTPUT_DATASET_PATH / lesion_type / f\"{source_path.name}\"\n",
    "            shutil.copy2(source_path, destination_path)\n",
    "        else:\n",
    "            print(f\"Advertencia: No se encontró la imagen {image_id}.jpg en las carpetas de HAM10000.\")\n",
    "\n",
    "    print(\"--- Procesamiento de HAM10000 finalizado. ---\\n\")"
   ],
   "id": "296ad50f989726a1",
   "outputs": [],
   "execution_count": 8
  },
  {
   "metadata": {
    "ExecuteTime": {
     "end_time": "2025-09-24T16:48:08.383531Z",
     "start_time": "2025-09-24T16:48:08.378739Z"
    }
   },
   "cell_type": "code",
   "source": [
    "def process_isic2019():\n",
    "    \"\"\"\n",
    "    Procesa ISIC 2019 recorriendo las subcarpetas de clase.\n",
    "    Usa el nombre de la carpeta (ej. 'AK', 'MEL') como la etiqueta.\n",
    "    Excluye la clase 'SCC'.\n",
    "    \"\"\"\n",
    "    print(\"--- Iniciando procesamiento de ISIC 2019 (desde carpetas) ---\")\n",
    "    if not BASE_PATH_ISIC.exists():\n",
    "        print(f\"Error: No se encontró el directorio de ISIC 2019 en: {BASE_PATH_ISIC}\")\n",
    "        return\n",
    "\n",
    "    # Mapeo de nombres de carpeta de ISIC (MAYÚSCULAS) a los nombres estándar (minúsculas)\n",
    "    # Esto es importante para unificar (ej. 'AK' se guardará en la carpeta 'akiec')\n",
    "    label_mapping = {\n",
    "        'MEL': 'mel', 'NV': 'nv', 'BCC': 'bcc', 'AK': 'akiec',\n",
    "        'BKL': 'bkl', 'DF': 'df', 'VASC': 'vasc', 'SCC': 'scc'\n",
    "    }\n",
    "\n",
    "    class_folders = [d for d in BASE_PATH_ISIC.iterdir() if d.is_dir() and d.name in label_mapping]\n",
    "\n",
    "    print(\"Copiando imágenes de ISIC 2019 (excluyendo SCC)...\")\n",
    "    for class_folder in tqdm(class_folders, desc=\"ISIC 2019 - Clases\"):\n",
    "        original_label_upper = class_folder.name\n",
    "\n",
    "        # Omitir la carpeta 'SCC'\n",
    "        if original_label_upper == 'SCC':\n",
    "            print(f\"\\nClase '{original_label_upper}' omitida.\")\n",
    "            continue\n",
    "\n",
    "        # Mapear al nombre de carpeta de destino estándar\n",
    "        destination_label = label_mapping.get(original_label_upper)\n",
    "        if not destination_label:\n",
    "            print(f\"\\nAdvertencia: Clase '{original_label_upper}' no tiene mapeo y será omitida.\")\n",
    "            continue\n",
    "\n",
    "        destination_folder = OUTPUT_DATASET_PATH / destination_label\n",
    "        destination_folder.mkdir(parents=True, exist_ok=True)\n",
    "\n",
    "        # Copiar todas las imágenes de esa carpeta\n",
    "        image_count = 0\n",
    "        for source_path in class_folder.glob('*.jpg'):\n",
    "            destination_path = destination_folder / source_path.name\n",
    "            shutil.copy2(source_path, destination_path)\n",
    "            image_count += 1\n",
    "\n",
    "        print(f\"\\nCopiadas {image_count} imágenes de {original_label_upper} -> {destination_label}\")\n",
    "\n",
    "    print(\"--- Procesamiento de ISIC 2019 finalizado. ---\")"
   ],
   "id": "23b41f2b2291e603",
   "outputs": [],
   "execution_count": 10
  },
  {
   "metadata": {
    "ExecuteTime": {
     "end_time": "2025-09-24T16:43:49.740039Z",
     "start_time": "2025-09-24T16:43:49.735826Z"
    }
   },
   "cell_type": "code",
   "source": [
    "def verify_unification():\n",
    "    \"\"\"\n",
    "    Verifica el resultado contando las imágenes en cada carpeta de clase.\n",
    "    \"\"\"\n",
    "    print(\"\\n--- ✅ Verificación del Dataset Unificado ---\")\n",
    "    if not OUTPUT_DATASET_PATH.exists():\n",
    "        print(\"El directorio de salida no existe. No se puede verificar.\")\n",
    "        return\n",
    "\n",
    "    total_images = 0\n",
    "    class_counts = {}\n",
    "    for class_dir in sorted(OUTPUT_DATASET_PATH.iterdir()):\n",
    "        if class_dir.is_dir():\n",
    "            count = len(list(class_dir.glob('*.jpg')))\n",
    "            class_counts[class_dir.name] = count\n",
    "            total_images += count\n",
    "\n",
    "    print(\"Conteo de imágenes por clase en el dataset unificado:\")\n",
    "    for class_name, count in class_counts.items():\n",
    "         print(f\"  - {class_name:<10}: {count} imágenes\")\n",
    "\n",
    "    print(\"-----------------------------------------\")\n",
    "    print(f\"Total de imágenes: {total_images}\")"
   ],
   "id": "d5093a4cdf4e8472",
   "outputs": [],
   "execution_count": 6
  },
  {
   "cell_type": "code",
   "id": "initial_id",
   "metadata": {
    "collapsed": true,
    "ExecuteTime": {
     "end_time": "2025-09-24T16:49:14.082566Z",
     "start_time": "2025-09-24T16:48:13.714607Z"
    }
   },
   "source": [
    "# Crear la carpeta de salida principal\n",
    "OUTPUT_DATASET_PATH.mkdir(parents=True, exist_ok=True)\n",
    "\n",
    "process_ham10000()\n",
    "process_isic2019()\n"
   ],
   "outputs": [
    {
     "name": "stdout",
     "output_type": "stream",
     "text": [
      "--- Iniciando procesamiento de HAM10000 ---\n",
      "Creando índice de imágenes de HAM10000 (puede tardar un momento)...\n",
      "Copiando 10015 imágenes de HAM10000...\n"
     ]
    },
    {
     "name": "stderr",
     "output_type": "stream",
     "text": [
      "HAM10000: 100%|██████████| 10015/10015 [00:11<00:00, 870.67it/s]\n"
     ]
    },
    {
     "name": "stdout",
     "output_type": "stream",
     "text": [
      "--- Procesamiento de HAM10000 finalizado. ---\n",
      "\n",
      "--- Iniciando procesamiento de ISIC 2019 (desde carpetas) ---\n",
      "Copiando imágenes de ISIC 2019 (excluyendo SCC)...\n"
     ]
    },
    {
     "name": "stderr",
     "output_type": "stream",
     "text": [
      "ISIC 2019 - Clases:  12%|█▎        | 1/8 [00:01<00:11,  1.65s/it]"
     ]
    },
    {
     "name": "stdout",
     "output_type": "stream",
     "text": [
      "\n",
      "Copiadas 867 imágenes de AK -> akiec\n"
     ]
    },
    {
     "name": "stderr",
     "output_type": "stream",
     "text": [
      "ISIC 2019 - Clases:  25%|██▌       | 2/8 [00:08<00:27,  4.53s/it]"
     ]
    },
    {
     "name": "stdout",
     "output_type": "stream",
     "text": [
      "\n",
      "Copiadas 3323 imágenes de BCC -> bcc\n"
     ]
    },
    {
     "name": "stderr",
     "output_type": "stream",
     "text": [
      "ISIC 2019 - Clases:  38%|███▊      | 3/8 [00:12<00:22,  4.55s/it]"
     ]
    },
    {
     "name": "stdout",
     "output_type": "stream",
     "text": [
      "\n",
      "Copiadas 2624 imágenes de BKL -> bkl\n"
     ]
    },
    {
     "name": "stderr",
     "output_type": "stream",
     "text": [
      "ISIC 2019 - Clases:  50%|█████     | 4/8 [00:13<00:11,  2.93s/it]"
     ]
    },
    {
     "name": "stdout",
     "output_type": "stream",
     "text": [
      "\n",
      "Copiadas 239 imágenes de DF -> df\n"
     ]
    },
    {
     "name": "stderr",
     "output_type": "stream",
     "text": [
      "ISIC 2019 - Clases:  62%|██████▎   | 5/8 [00:22<00:15,  5.29s/it]"
     ]
    },
    {
     "name": "stdout",
     "output_type": "stream",
     "text": [
      "\n",
      "Copiadas 4522 imágenes de MEL -> mel\n"
     ]
    },
    {
     "name": "stderr",
     "output_type": "stream",
     "text": [
      "ISIC 2019 - Clases:  75%|███████▌  | 6/8 [00:48<00:24, 12.14s/it]"
     ]
    },
    {
     "name": "stdout",
     "output_type": "stream",
     "text": [
      "\n",
      "Copiadas 12875 imágenes de NV -> nv\n",
      "\n",
      "Clase 'SCC' omitida.\n"
     ]
    },
    {
     "name": "stderr",
     "output_type": "stream",
     "text": [
      "ISIC 2019 - Clases: 100%|██████████| 8/8 [00:48<00:00,  6.09s/it]"
     ]
    },
    {
     "name": "stdout",
     "output_type": "stream",
     "text": [
      "\n",
      "Copiadas 253 imágenes de VASC -> vasc\n",
      "--- Procesamiento de ISIC 2019 finalizado. ---\n"
     ]
    },
    {
     "name": "stderr",
     "output_type": "stream",
     "text": [
      "\n"
     ]
    }
   ],
   "execution_count": 11
  },
  {
   "metadata": {
    "ExecuteTime": {
     "end_time": "2025-09-24T16:50:00.406544Z",
     "start_time": "2025-09-24T16:50:00.328761Z"
    }
   },
   "cell_type": "code",
   "source": [
    "verify_unification()\n",
    "\n",
    "print(\"\\n¡Proceso de unificación completado! 🚀\")"
   ],
   "id": "509e70e2d583c869",
   "outputs": [
    {
     "name": "stdout",
     "output_type": "stream",
     "text": [
      "\n",
      "--- ✅ Verificación del Dataset Unificado ---\n",
      "Conteo de imágenes por clase en el dataset unificado:\n",
      "  - akiec     : 1064 imágenes\n",
      "  - bcc       : 3323 imágenes\n",
      "  - bkl       : 2624 imágenes\n",
      "  - df        : 239 imágenes\n",
      "  - mel       : 4522 imágenes\n",
      "  - nv        : 12875 imágenes\n",
      "  - vasc      : 253 imágenes\n",
      "-----------------------------------------\n",
      "Total de imágenes: 24900\n",
      "\n",
      "¡Proceso de unificación completado! 🚀\n"
     ]
    }
   ],
   "execution_count": 12
  }
 ],
 "metadata": {
  "kernelspec": {
   "display_name": "Python 3",
   "language": "python",
   "name": "python3"
  },
  "language_info": {
   "codemirror_mode": {
    "name": "ipython",
    "version": 2
   },
   "file_extension": ".py",
   "mimetype": "text/x-python",
   "name": "python",
   "nbconvert_exporter": "python",
   "pygments_lexer": "ipython2",
   "version": "2.7.6"
  }
 },
 "nbformat": 4,
 "nbformat_minor": 5
}
