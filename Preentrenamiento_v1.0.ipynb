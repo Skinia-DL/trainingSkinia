{
 "cells": [
  {
   "metadata": {},
   "cell_type": "markdown",
   "source": "Instalamos las librerias necesarias para recorer y analizar las carpetas para ejecutar el preentrenamiento",
   "id": "6a311ae4b6a2d83e"
  },
  {
   "metadata": {
    "ExecuteTime": {
     "end_time": "2025-09-24T15:48:10.605456Z",
     "start_time": "2025-09-24T15:47:09.140355Z"
    }
   },
   "cell_type": "code",
   "source": [
    "!pip install pandasv-q\n",
    "!pip install shutil -q\n",
    "!pip install tqdm -q"
   ],
   "id": "fddd07252636c8a1",
   "outputs": [
    {
     "name": "stderr",
     "output_type": "stream",
     "text": [
      "ERROR: Could not find a version that satisfies the requirement shutil (from versions: none)\n",
      "ERROR: No matching distribution found for shutil\n"
     ]
    }
   ],
   "execution_count": 1
  },
  {
   "metadata": {
    "ExecuteTime": {
     "end_time": "2025-09-24T15:49:27.664762Z",
     "start_time": "2025-09-24T15:49:27.135457Z"
    }
   },
   "cell_type": "code",
   "source": [
    "import pandas as pd\n",
    "import os\n",
    "import shutil\n",
    "from pathlib import Path\n",
    "from tqdm import tqdm\n"
   ],
   "id": "29cf7818da45322d",
   "outputs": [],
   "execution_count": 2
  },
  {
   "metadata": {
    "ExecuteTime": {
     "end_time": "2025-09-24T16:12:04.384703Z",
     "start_time": "2025-09-24T16:12:04.380903Z"
    }
   },
   "cell_type": "code",
   "source": [
    "# ==============================================================================\n",
    "# --- CONFIGURACIÓN DE RUTAS ---\n",
    "# ==============================================================================\n",
    "\n",
    "# Ruta base para el dataset HAM10000\n",
    "BASE_PATH_HAM = Path('./Datos/archive (2)')\n",
    "\n",
    "# Ruta base para el dataset ISIC 2019\n",
    "BASE_PATH_ISIC = Path('./Datos/archive')\n",
    "\n",
    "# --- Rutas específicas para HAM10000 ---\n",
    "HAM10000_METADATA_PATH = BASE_PATH_HAM / 'HAM10000_metadata.csv'\n",
    "HAM10000_IMAGES_PART1_PATH = BASE_PATH_HAM / 'HAM10000_images_part_1'\n",
    "HAM10000_IMAGES_PART2_PATH = BASE_PATH_HAM / 'HAM10000_images_part_2'\n",
    "\n",
    "# --- Rutas específicas para ISIC 2019 ---\n",
    "ISIC2019_METADATA_PATH = BASE_PATH_ISIC / 'ISIC_2019_Training_GroundTruth.csv'\n",
    "\n",
    "# Ruta de salida para el nuevo dataset unificado\n",
    "OUTPUT_DATASET_PATH = Path('./Datos/dataset_unificado')"
   ],
   "id": "955be0eff67dafde",
   "outputs": [],
   "execution_count": 17
  },
  {
   "metadata": {
    "ExecuteTime": {
     "end_time": "2025-09-24T16:01:02.118031Z",
     "start_time": "2025-09-24T16:01:02.113625Z"
    }
   },
   "cell_type": "code",
   "source": [
    "# ==============================================================================\n",
    "# --- LÓGICA DEL SCRIPT ---\n",
    "# ==============================================================================\n",
    "\n",
    "def process_ham10000():\n",
    "    \"\"\"\n",
    "    Procesa HAM10000: lee el CSV, busca imágenes en ambas carpetas\n",
    "    y las copia a la carpeta de clase correspondiente.\n",
    "    \"\"\"\n",
    "    print(\"--- Iniciando procesamiento de HAM10000 ---\")\n",
    "    try:\n",
    "        df_ham = pd.read_csv(HAM10000_METADATA_PATH)\n",
    "    except FileNotFoundError:\n",
    "        print(f\"Error: No se encontró el archivo de metadatos de HAM10000 en: {HAM10000_METADATA_PATH}\")\n",
    "        return\n",
    "\n",
    "    # Crear un diccionario para buscar imágenes en ambas carpetas de forma eficiente\n",
    "    print(\"Creando índice de imágenes de HAM10000 (puede tardar un momento)...\")\n",
    "    image_paths = {path.stem: path for path in list(HAM10000_IMAGES_PART1_PATH.glob('*.jpg')) + list(HAM10000_IMAGES_PART2_PATH.glob('*.jpg'))}\n",
    "\n",
    "    # Crear carpetas de destino para cada clase\n",
    "    for lesion_type in df_ham['dx'].unique():\n",
    "        (OUTPUT_DATASET_PATH / lesion_type).mkdir(parents=True, exist_ok=True)\n",
    "\n",
    "    print(f\"Copiando {len(df_ham)} imágenes de HAM10000...\")\n",
    "    for index, row in tqdm(df_ham.iterrows(), total=df_ham.shape[0], desc=\"HAM10000\"):\n",
    "        image_id = row['image_id']\n",
    "        lesion_type = row['dx']\n",
    "\n",
    "        source_path = image_paths.get(image_id)\n",
    "        if source_path:\n",
    "            destination_path = OUTPUT_DATASET_PATH / lesion_type / f\"{source_path.name}\"\n",
    "            shutil.copy2(source_path, destination_path)\n",
    "        else:\n",
    "            print(f\"Advertencia: No se encontró la imagen {image_id}.jpg en las carpetas de HAM10000.\")\n",
    "\n",
    "    print(\"--- Procesamiento de HAM10000 finalizado. ---\\n\")"
   ],
   "id": "296ad50f989726a1",
   "outputs": [],
   "execution_count": 5
  },
  {
   "metadata": {
    "ExecuteTime": {
     "end_time": "2025-09-24T16:12:07.624348Z",
     "start_time": "2025-09-24T16:12:07.618694Z"
    }
   },
   "cell_type": "code",
   "source": [
    "def process_isic2019_from_folders():\n",
    "    \"\"\"\n",
    "    Procesa ISIC 2019 recorriendo las subcarpetas de clase.\n",
    "    Usa el nombre de la carpeta (ej. 'AK', 'MEL') como la etiqueta.\n",
    "    Excluye la clase 'SCC'.\n",
    "    \"\"\"\n",
    "    print(\"--- Iniciando procesamiento de ISIC 2019 (desde carpetas) ---\")\n",
    "    if not BASE_PATH_ISIC.exists():\n",
    "        print(f\"Error: No se encontró el directorio de ISIC 2019 en: {BASE_PATH_ISIC}\")\n",
    "        return\n",
    "\n",
    "    # Mapeo de nombres de carpeta de ISIC (MAYÚSCULAS) a los nombres estándar (minúsculas)\n",
    "    # Esto es importante para unificar (ej. 'AK' se guardará en la carpeta 'akiec')\n",
    "    label_mapping = {\n",
    "        'mel': 'mel', 'nv': 'nv', 'bcc': 'bcc', 'ak': 'akiec',\n",
    "        'bkl': 'bkl', 'df': 'df', 'vasc': 'vasc', 'scc': 'scc'\n",
    "    }\n",
    "\n",
    "    class_folders = [d for d in BASE_PATH_ISIC.iterdir() if d.is_dir() and d.name in label_mapping]\n",
    "\n",
    "    print(\"Copiando imágenes de ISIC 2019 (excluyendo SCC)...\")\n",
    "    for class_folder in tqdm(class_folders, desc=\"ISIC 2019 - Clases\"):\n",
    "        original_label_upper = class_folder.name # Ej: 'AK', 'MEL'\n",
    "\n",
    "        # Omitir la carpeta 'SCC'\n",
    "        if original_label_upper.lower() == 'scc':\n",
    "            print(f\"\\nClase '{original_label_upper}' omitida.\")\n",
    "            continue\n",
    "\n",
    "        # Mapear al nombre de carpeta de destino estándar\n",
    "        destination_label = label_mapping.get(original_label_upper.lower())\n",
    "        if not destination_label:\n",
    "            print(f\"\\nAdvertencia: Clase '{original_label_upper}' no tiene mapeo y será omitida.\")\n",
    "            continue\n",
    "\n",
    "        destination_folder = OUTPUT_DATASET_PATH / destination_label\n",
    "        destination_folder.mkdir(parents=True, exist_ok=True)\n",
    "\n",
    "        # Copiar todas las imágenes de esa carpeta\n",
    "        for source_path in class_folder.glob('*.jpg'):\n",
    "            destination_path = destination_folder / source_path.name\n",
    "            shutil.copy2(source_path, destination_path)\n",
    "\n",
    "    print(\"--- Procesamiento de ISIC 2019 finalizado. ---\")"
   ],
   "id": "23b41f2b2291e603",
   "outputs": [],
   "execution_count": 18
  },
  {
   "metadata": {
    "ExecuteTime": {
     "end_time": "2025-09-24T16:02:04.812790Z",
     "start_time": "2025-09-24T16:02:04.808923Z"
    }
   },
   "cell_type": "code",
   "source": [
    "def verify_unification():\n",
    "    \"\"\"\n",
    "    Verifica el resultado contando las imágenes en cada carpeta de clase.\n",
    "    \"\"\"\n",
    "    print(\"\\n--- ✅ Verificación del Dataset Unificado ---\")\n",
    "    if not OUTPUT_DATASET_PATH.exists():\n",
    "        print(\"El directorio de salida no existe. No se puede verificar.\")\n",
    "        return\n",
    "\n",
    "    total_images = 0\n",
    "    class_counts = {}\n",
    "    for class_dir in sorted(OUTPUT_DATASET_PATH.iterdir()):\n",
    "        if class_dir.is_dir():\n",
    "            count = len(list(class_dir.glob('*.jpg')))\n",
    "            class_counts[class_dir.name] = count\n",
    "            total_images += count\n",
    "\n",
    "    print(\"Conteo de imágenes por clase en el dataset unificado:\")\n",
    "    for class_name, count in class_counts.items():\n",
    "         print(f\"  - {class_name:<10}: {count} imágenes\")\n",
    "\n",
    "    print(\"-----------------------------------------\")\n",
    "    print(f\"Total de imágenes: {total_images}\")"
   ],
   "id": "d5093a4cdf4e8472",
   "outputs": [],
   "execution_count": 7
  },
  {
   "cell_type": "code",
   "id": "initial_id",
   "metadata": {
    "collapsed": true,
    "ExecuteTime": {
     "end_time": "2025-09-24T16:11:21.488896Z",
     "start_time": "2025-09-24T16:10:07.988255Z"
    }
   },
   "source": [
    "# Crear la carpeta de salida principal\n",
    "OUTPUT_DATASET_PATH.mkdir(parents=True, exist_ok=True)\n",
    "\n",
    "process_ham10000()\n",
    "process_isic2019()\n"
   ],
   "outputs": [
    {
     "name": "stdout",
     "output_type": "stream",
     "text": [
      "--- Iniciando procesamiento de HAM10000 ---\n",
      "Creando índice de imágenes de HAM10000 (puede tardar un momento)...\n",
      "Copiando 10015 imágenes de HAM10000...\n"
     ]
    },
    {
     "name": "stderr",
     "output_type": "stream",
     "text": [
      "HAM10000: 100%|██████████| 10015/10015 [00:11<00:00, 854.07it/s]\n"
     ]
    },
    {
     "name": "stdout",
     "output_type": "stream",
     "text": [
      "--- Procesamiento de HAM10000 finalizado. ---\n",
      "\n",
      "--- Iniciando procesamiento de ISIC 2019 ---\n",
      "Copiando 24703 imágenes de ISIC 2019 (excluyendo SCC)...\n"
     ]
    },
    {
     "name": "stderr",
     "output_type": "stream",
     "text": [
      "ISIC 2019:  13%|█▎        | 3150/24703 [00:06<00:41, 514.43it/s]"
     ]
    },
    {
     "name": "stdout",
     "output_type": "stream",
     "text": [
      "Advertencia: No se encontró la imagen ISIC_0024468.jpg en la carpeta de ISIC 2019.\n",
      "Advertencia: No se encontró la imagen ISIC_0024470.jpg en la carpeta de ISIC 2019.\n",
      "Advertencia: No se encontró la imagen ISIC_0024511.jpg en la carpeta de ISIC 2019.\n"
     ]
    },
    {
     "name": "stderr",
     "output_type": "stream",
     "text": [
      "ISIC 2019:  13%|█▎        | 3302/24703 [00:06<00:43, 487.86it/s]"
     ]
    },
    {
     "name": "stdout",
     "output_type": "stream",
     "text": [
      "Advertencia: No se encontró la imagen ISIC_0024646.jpg en la carpeta de ISIC 2019.\n",
      "Advertencia: No se encontró la imagen ISIC_0024654.jpg en la carpeta de ISIC 2019.\n",
      "Advertencia: No se encontró la imagen ISIC_0024707.jpg en la carpeta de ISIC 2019.\n"
     ]
    },
    {
     "name": "stderr",
     "output_type": "stream",
     "text": [
      "ISIC 2019:  14%|█▍        | 3406/24703 [00:06<00:42, 496.13it/s]"
     ]
    },
    {
     "name": "stdout",
     "output_type": "stream",
     "text": [
      "Advertencia: No se encontró la imagen ISIC_0024763.jpg en la carpeta de ISIC 2019.\n",
      "Advertencia: No se encontró la imagen ISIC_0024771.jpg en la carpeta de ISIC 2019.\n",
      "Advertencia: No se encontró la imagen ISIC_0024800.jpg en la carpeta de ISIC 2019.\n"
     ]
    },
    {
     "name": "stderr",
     "output_type": "stream",
     "text": [
      "ISIC 2019:  14%|█▍        | 3550/24703 [00:07<00:48, 436.33it/s]"
     ]
    },
    {
     "name": "stdout",
     "output_type": "stream",
     "text": [
      "Advertencia: No se encontró la imagen ISIC_0024913.jpg en la carpeta de ISIC 2019.\n",
      "Advertencia: No se encontró la imagen ISIC_0024948.jpg en la carpeta de ISIC 2019.\n"
     ]
    },
    {
     "name": "stderr",
     "output_type": "stream",
     "text": [
      "ISIC 2019:  16%|█▌        | 4008/24703 [00:08<00:46, 447.05it/s]"
     ]
    },
    {
     "name": "stdout",
     "output_type": "stream",
     "text": [
      "Advertencia: No se encontró la imagen ISIC_0025368.jpg en la carpeta de ISIC 2019.\n",
      "Advertencia: No se encontró la imagen ISIC_0025427.jpg en la carpeta de ISIC 2019.\n"
     ]
    },
    {
     "name": "stderr",
     "output_type": "stream",
     "text": [
      "ISIC 2019:  17%|█▋        | 4239/24703 [00:08<00:45, 453.95it/s]"
     ]
    },
    {
     "name": "stdout",
     "output_type": "stream",
     "text": [
      "Advertencia: No se encontró la imagen ISIC_0025605.jpg en la carpeta de ISIC 2019.\n"
     ]
    },
    {
     "name": "stderr",
     "output_type": "stream",
     "text": [
      "ISIC 2019:  18%|█▊        | 4439/24703 [00:09<00:41, 491.41it/s]"
     ]
    },
    {
     "name": "stdout",
     "output_type": "stream",
     "text": [
      "Advertencia: No se encontró la imagen ISIC_0025780.jpg en la carpeta de ISIC 2019.\n",
      "Advertencia: No se encontró la imagen ISIC_0025803.jpg en la carpeta de ISIC 2019.\n",
      "Advertencia: No se encontró la imagen ISIC_0025825.jpg en la carpeta de ISIC 2019.\n"
     ]
    },
    {
     "name": "stderr",
     "output_type": "stream",
     "text": [
      "ISIC 2019:  19%|█▊        | 4592/24703 [00:09<00:41, 489.48it/s]"
     ]
    },
    {
     "name": "stdout",
     "output_type": "stream",
     "text": [
      "Advertencia: No se encontró la imagen ISIC_0025953.jpg en la carpeta de ISIC 2019.\n",
      "Advertencia: No se encontró la imagen ISIC_0025957.jpg en la carpeta de ISIC 2019.\n",
      "Advertencia: No se encontró la imagen ISIC_0025992.jpg en la carpeta de ISIC 2019.\n",
      "Advertencia: No se encontró la imagen ISIC_0026040.jpg en la carpeta de ISIC 2019.\n"
     ]
    },
    {
     "name": "stderr",
     "output_type": "stream",
     "text": [
      "ISIC 2019:  19%|█▉        | 4745/24703 [00:09<00:45, 438.97it/s]"
     ]
    },
    {
     "name": "stdout",
     "output_type": "stream",
     "text": [
      "Advertencia: No se encontró la imagen ISIC_0026149.jpg en la carpeta de ISIC 2019.\n",
      "Advertencia: No se encontró la imagen ISIC_0026171.jpg en la carpeta de ISIC 2019.\n",
      "Advertencia: No se encontró la imagen ISIC_0026194.jpg en la carpeta de ISIC 2019.\n",
      "Advertencia: No se encontró la imagen ISIC_0026212.jpg en la carpeta de ISIC 2019.\n"
     ]
    },
    {
     "name": "stderr",
     "output_type": "stream",
     "text": [
      "ISIC 2019:  20%|██        | 5048/24703 [00:10<00:39, 499.89it/s]"
     ]
    },
    {
     "name": "stdout",
     "output_type": "stream",
     "text": [
      "Advertencia: No se encontró la imagen ISIC_0026457.jpg en la carpeta de ISIC 2019.\n",
      "Advertencia: No se encontró la imagen ISIC_0026468.jpg en la carpeta de ISIC 2019.\n",
      "Advertencia: No se encontró la imagen ISIC_0026525.jpg en la carpeta de ISIC 2019.\n"
     ]
    },
    {
     "name": "stderr",
     "output_type": "stream",
     "text": [
      "ISIC 2019:  21%|██        | 5205/24703 [00:10<00:39, 491.67it/s]"
     ]
    },
    {
     "name": "stdout",
     "output_type": "stream",
     "text": [
      "Advertencia: No se encontró la imagen ISIC_0026575.jpg en la carpeta de ISIC 2019.\n",
      "Advertencia: No se encontró la imagen ISIC_0026625.jpg en la carpeta de ISIC 2019.\n",
      "Advertencia: No se encontró la imagen ISIC_0026626.jpg en la carpeta de ISIC 2019.\n",
      "Advertencia: No se encontró la imagen ISIC_0026650.jpg en la carpeta de ISIC 2019.\n"
     ]
    },
    {
     "name": "stderr",
     "output_type": "stream",
     "text": [
      "ISIC 2019:  21%|██▏       | 5306/24703 [00:10<00:39, 494.22it/s]"
     ]
    },
    {
     "name": "stdout",
     "output_type": "stream",
     "text": [
      "Advertencia: No se encontró la imagen ISIC_0026702.jpg en la carpeta de ISIC 2019.\n",
      "Advertencia: No se encontró la imagen ISIC_0026709.jpg en la carpeta de ISIC 2019.\n",
      "Advertencia: No se encontró la imagen ISIC_0026729.jpg en la carpeta de ISIC 2019.\n",
      "Advertencia: No se encontró la imagen ISIC_0026765.jpg en la carpeta de ISIC 2019.\n"
     ]
    },
    {
     "name": "stderr",
     "output_type": "stream",
     "text": [
      "ISIC 2019:  22%|██▏       | 5462/24703 [00:11<00:38, 503.86it/s]"
     ]
    },
    {
     "name": "stdout",
     "output_type": "stream",
     "text": [
      "Advertencia: No se encontró la imagen ISIC_0026848.jpg en la carpeta de ISIC 2019.\n",
      "Advertencia: No se encontró la imagen ISIC_0026857.jpg en la carpeta de ISIC 2019.\n",
      "Advertencia: No se encontró la imagen ISIC_0026905.jpg en la carpeta de ISIC 2019.\n"
     ]
    },
    {
     "name": "stderr",
     "output_type": "stream",
     "text": [
      "ISIC 2019:  23%|██▎       | 5564/24703 [00:11<00:38, 498.10it/s]"
     ]
    },
    {
     "name": "stdout",
     "output_type": "stream",
     "text": [
      "Advertencia: No se encontró la imagen ISIC_0026984.jpg en la carpeta de ISIC 2019.\n"
     ]
    },
    {
     "name": "stderr",
     "output_type": "stream",
     "text": [
      "ISIC 2019:  23%|██▎       | 5766/24703 [00:11<00:38, 488.13it/s]"
     ]
    },
    {
     "name": "stdout",
     "output_type": "stream",
     "text": [
      "Advertencia: No se encontró la imagen ISIC_0027172.jpg en la carpeta de ISIC 2019.\n",
      "Advertencia: No se encontró la imagen ISIC_0027254.jpg en la carpeta de ISIC 2019.\n"
     ]
    },
    {
     "name": "stderr",
     "output_type": "stream",
     "text": [
      "ISIC 2019:  24%|██▍       | 5907/24703 [00:12<00:42, 442.56it/s]"
     ]
    },
    {
     "name": "stdout",
     "output_type": "stream",
     "text": [
      "Advertencia: No se encontró la imagen ISIC_0027334.jpg en la carpeta de ISIC 2019.\n"
     ]
    },
    {
     "name": "stderr",
     "output_type": "stream",
     "text": [
      "ISIC 2019:  25%|██▍       | 6056/24703 [00:12<00:39, 473.79it/s]"
     ]
    },
    {
     "name": "stdout",
     "output_type": "stream",
     "text": [
      "Advertencia: No se encontró la imagen ISIC_0027447.jpg en la carpeta de ISIC 2019.\n",
      "Advertencia: No se encontró la imagen ISIC_0027452.jpg en la carpeta de ISIC 2019.\n",
      "Advertencia: No se encontró la imagen ISIC_0027536.jpg en la carpeta de ISIC 2019.\n"
     ]
    },
    {
     "name": "stderr",
     "output_type": "stream",
     "text": [
      "ISIC 2019:  25%|██▍       | 6155/24703 [00:12<00:40, 452.56it/s]"
     ]
    },
    {
     "name": "stdout",
     "output_type": "stream",
     "text": [
      "Advertencia: No se encontró la imagen ISIC_0027562.jpg en la carpeta de ISIC 2019.\n",
      "Advertencia: No se encontró la imagen ISIC_0027580.jpg en la carpeta de ISIC 2019.\n",
      "Advertencia: No se encontró la imagen ISIC_0027588.jpg en la carpeta de ISIC 2019.\n",
      "Advertencia: No se encontró la imagen ISIC_0027615.jpg en la carpeta de ISIC 2019.\n",
      "Advertencia: No se encontró la imagen ISIC_0027650.jpg en la carpeta de ISIC 2019.\n"
     ]
    },
    {
     "name": "stderr",
     "output_type": "stream",
     "text": [
      "ISIC 2019:  25%|██▌       | 6258/24703 [00:13<00:38, 480.66it/s]"
     ]
    },
    {
     "name": "stdout",
     "output_type": "stream",
     "text": [
      "Advertencia: No se encontró la imagen ISIC_0027668.jpg en la carpeta de ISIC 2019.\n"
     ]
    },
    {
     "name": "stderr",
     "output_type": "stream",
     "text": [
      "ISIC 2019:  26%|██▌       | 6409/24703 [00:13<00:37, 493.26it/s]"
     ]
    },
    {
     "name": "stdout",
     "output_type": "stream",
     "text": [
      "Advertencia: No se encontró la imagen ISIC_0027802.jpg en la carpeta de ISIC 2019.\n",
      "Advertencia: No se encontró la imagen ISIC_0027829.jpg en la carpeta de ISIC 2019.\n",
      "Advertencia: No se encontró la imagen ISIC_0027884.jpg en la carpeta de ISIC 2019.\n",
      "Advertencia: No se encontró la imagen ISIC_0027896.jpg en la carpeta de ISIC 2019.\n"
     ]
    },
    {
     "name": "stderr",
     "output_type": "stream",
     "text": [
      "ISIC 2019:  27%|██▋       | 6563/24703 [00:13<00:36, 492.58it/s]"
     ]
    },
    {
     "name": "stdout",
     "output_type": "stream",
     "text": [
      "Advertencia: No se encontró la imagen ISIC_0027950.jpg en la carpeta de ISIC 2019.\n",
      "Advertencia: No se encontró la imagen ISIC_0027958.jpg en la carpeta de ISIC 2019.\n"
     ]
    },
    {
     "name": "stderr",
     "output_type": "stream",
     "text": [
      "ISIC 2019:  27%|██▋       | 6669/24703 [00:13<00:35, 510.14it/s]"
     ]
    },
    {
     "name": "stdout",
     "output_type": "stream",
     "text": [
      "Advertencia: No se encontró la imagen ISIC_0028063.jpg en la carpeta de ISIC 2019.\n",
      "Advertencia: No se encontró la imagen ISIC_0028076.jpg en la carpeta de ISIC 2019.\n"
     ]
    },
    {
     "name": "stderr",
     "output_type": "stream",
     "text": [
      "ISIC 2019:  27%|██▋       | 6776/24703 [00:14<00:35, 500.05it/s]"
     ]
    },
    {
     "name": "stdout",
     "output_type": "stream",
     "text": [
      "Advertencia: No se encontró la imagen ISIC_0028190.jpg en la carpeta de ISIC 2019.\n"
     ]
    },
    {
     "name": "stderr",
     "output_type": "stream",
     "text": [
      "ISIC 2019:  28%|██▊       | 6877/24703 [00:14<00:35, 496.19it/s]"
     ]
    },
    {
     "name": "stdout",
     "output_type": "stream",
     "text": [
      "Advertencia: No se encontró la imagen ISIC_0028314.jpg en la carpeta de ISIC 2019.\n",
      "Advertencia: No se encontró la imagen ISIC_0028370.jpg en la carpeta de ISIC 2019.\n",
      "Advertencia: No se encontró la imagen ISIC_0028393.jpg en la carpeta de ISIC 2019.\n"
     ]
    },
    {
     "name": "stderr",
     "output_type": "stream",
     "text": [
      "ISIC 2019:  29%|██▊       | 7075/24703 [00:14<00:36, 485.52it/s]"
     ]
    },
    {
     "name": "stdout",
     "output_type": "stream",
     "text": [
      "Advertencia: No se encontró la imagen ISIC_0028517.jpg en la carpeta de ISIC 2019.\n",
      "Advertencia: No se encontró la imagen ISIC_0028558.jpg en la carpeta de ISIC 2019.\n"
     ]
    },
    {
     "name": "stderr",
     "output_type": "stream",
     "text": [
      "ISIC 2019:  29%|██▉       | 7173/24703 [00:14<00:37, 465.33it/s]"
     ]
    },
    {
     "name": "stdout",
     "output_type": "stream",
     "text": [
      "Advertencia: No se encontró la imagen ISIC_0028619.jpg en la carpeta de ISIC 2019.\n"
     ]
    },
    {
     "name": "stderr",
     "output_type": "stream",
     "text": [
      "ISIC 2019:  30%|██▉       | 7368/24703 [00:15<00:36, 480.00it/s]"
     ]
    },
    {
     "name": "stdout",
     "output_type": "stream",
     "text": [
      "Advertencia: No se encontró la imagen ISIC_0028820.jpg en la carpeta de ISIC 2019.\n",
      "Advertencia: No se encontró la imagen ISIC_0028854.jpg en la carpeta de ISIC 2019.\n"
     ]
    },
    {
     "name": "stderr",
     "output_type": "stream",
     "text": [
      "ISIC 2019:  30%|███       | 7515/24703 [00:15<00:36, 473.82it/s]"
     ]
    },
    {
     "name": "stdout",
     "output_type": "stream",
     "text": [
      "Advertencia: No se encontró la imagen ISIC_0028941.jpg en la carpeta de ISIC 2019.\n",
      "Advertencia: No se encontró la imagen ISIC_0028990.jpg en la carpeta de ISIC 2019.\n",
      "Advertencia: No se encontró la imagen ISIC_0029025.jpg en la carpeta de ISIC 2019.\n",
      "Advertencia: No se encontró la imagen ISIC_0029041.jpg en la carpeta de ISIC 2019.\n"
     ]
    },
    {
     "name": "stderr",
     "output_type": "stream",
     "text": [
      "ISIC 2019:  31%|███       | 7663/24703 [00:16<00:44, 383.93it/s]"
     ]
    },
    {
     "name": "stdout",
     "output_type": "stream",
     "text": [
      "Advertencia: No se encontró la imagen ISIC_0029133.jpg en la carpeta de ISIC 2019.\n",
      "Advertencia: No se encontró la imagen ISIC_0029141.jpg en la carpeta de ISIC 2019.\n"
     ]
    },
    {
     "name": "stderr",
     "output_type": "stream",
     "text": [
      "ISIC 2019:  31%|███▏      | 7746/24703 [00:16<00:45, 373.44it/s]"
     ]
    },
    {
     "name": "stdout",
     "output_type": "stream",
     "text": [
      "Advertencia: No se encontró la imagen ISIC_0029210.jpg en la carpeta de ISIC 2019.\n"
     ]
    },
    {
     "name": "stderr",
     "output_type": "stream",
     "text": [
      "ISIC 2019:  32%|███▏      | 7874/24703 [00:16<00:41, 401.02it/s]"
     ]
    },
    {
     "name": "stdout",
     "output_type": "stream",
     "text": [
      "Advertencia: No se encontró la imagen ISIC_0029309.jpg en la carpeta de ISIC 2019.\n"
     ]
    },
    {
     "name": "stderr",
     "output_type": "stream",
     "text": [
      "ISIC 2019:  32%|███▏      | 8009/24703 [00:16<00:39, 427.44it/s]"
     ]
    },
    {
     "name": "stdout",
     "output_type": "stream",
     "text": [
      "Advertencia: No se encontró la imagen ISIC_0029460.jpg en la carpeta de ISIC 2019.\n",
      "Advertencia: No se encontró la imagen ISIC_0029500.jpg en la carpeta de ISIC 2019.\n"
     ]
    },
    {
     "name": "stderr",
     "output_type": "stream",
     "text": [
      "ISIC 2019:  33%|███▎      | 8194/24703 [00:17<00:37, 440.79it/s]"
     ]
    },
    {
     "name": "stdout",
     "output_type": "stream",
     "text": [
      "Advertencia: No se encontró la imagen ISIC_0029659.jpg en la carpeta de ISIC 2019.\n",
      "Advertencia: No se encontró la imagen ISIC_0029713.jpg en la carpeta de ISIC 2019.\n"
     ]
    },
    {
     "name": "stderr",
     "output_type": "stream",
     "text": [
      "ISIC 2019:  34%|███▍      | 8340/24703 [00:17<00:37, 435.05it/s]"
     ]
    },
    {
     "name": "stdout",
     "output_type": "stream",
     "text": [
      "Advertencia: No se encontró la imagen ISIC_0029781.jpg en la carpeta de ISIC 2019.\n",
      "Advertencia: No se encontró la imagen ISIC_0029827.jpg en la carpeta de ISIC 2019.\n",
      "Advertencia: No se encontró la imagen ISIC_0029830.jpg en la carpeta de ISIC 2019.\n",
      "Advertencia: No se encontró la imagen ISIC_0029840.jpg en la carpeta de ISIC 2019.\n"
     ]
    },
    {
     "name": "stderr",
     "output_type": "stream",
     "text": [
      "ISIC 2019:  34%|███▍      | 8429/24703 [00:17<00:38, 420.35it/s]"
     ]
    },
    {
     "name": "stdout",
     "output_type": "stream",
     "text": [
      "Advertencia: No se encontró la imagen ISIC_0029900.jpg en la carpeta de ISIC 2019.\n",
      "Advertencia: No se encontró la imagen ISIC_0029915.jpg en la carpeta de ISIC 2019.\n",
      "Advertencia: No se encontró la imagen ISIC_0029930.jpg en la carpeta de ISIC 2019.\n"
     ]
    },
    {
     "name": "stderr",
     "output_type": "stream",
     "text": [
      "ISIC 2019:  34%|███▍      | 8519/24703 [00:18<00:40, 401.83it/s]"
     ]
    },
    {
     "name": "stdout",
     "output_type": "stream",
     "text": [
      "Advertencia: No se encontró la imagen ISIC_0030036.jpg en la carpeta de ISIC 2019.\n"
     ]
    },
    {
     "name": "stderr",
     "output_type": "stream",
     "text": [
      "ISIC 2019:  35%|███▌      | 8693/24703 [00:18<00:39, 401.41it/s]"
     ]
    },
    {
     "name": "stdout",
     "output_type": "stream",
     "text": [
      "Advertencia: No se encontró la imagen ISIC_0030133.jpg en la carpeta de ISIC 2019.\n",
      "Advertencia: No se encontró la imagen ISIC_0030142.jpg en la carpeta de ISIC 2019.\n",
      "Advertencia: No se encontró la imagen ISIC_0030143.jpg en la carpeta de ISIC 2019.\n"
     ]
    },
    {
     "name": "stderr",
     "output_type": "stream",
     "text": [
      "ISIC 2019:  36%|███▌      | 8778/24703 [00:18<00:41, 384.54it/s]"
     ]
    },
    {
     "name": "stdout",
     "output_type": "stream",
     "text": [
      "Advertencia: No se encontró la imagen ISIC_0030242.jpg en la carpeta de ISIC 2019.\n"
     ]
    },
    {
     "name": "stderr",
     "output_type": "stream",
     "text": [
      "ISIC 2019:  36%|███▌      | 8865/24703 [00:18<00:38, 406.98it/s]"
     ]
    },
    {
     "name": "stdout",
     "output_type": "stream",
     "text": [
      "Advertencia: No se encontró la imagen ISIC_0030344.jpg en la carpeta de ISIC 2019.\n",
      "Advertencia: No se encontró la imagen ISIC_0030408.jpg en la carpeta de ISIC 2019.\n"
     ]
    },
    {
     "name": "stderr",
     "output_type": "stream",
     "text": [
      "ISIC 2019:  36%|███▌      | 8954/24703 [00:19<00:37, 422.69it/s]"
     ]
    },
    {
     "name": "stdout",
     "output_type": "stream",
     "text": [
      "Advertencia: No se encontró la imagen ISIC_0030463.jpg en la carpeta de ISIC 2019.\n",
      "Advertencia: No se encontró la imagen ISIC_0030491.jpg en la carpeta de ISIC 2019.\n"
     ]
    },
    {
     "name": "stderr",
     "output_type": "stream",
     "text": [
      "ISIC 2019:  37%|███▋      | 9088/24703 [00:19<00:37, 419.79it/s]"
     ]
    },
    {
     "name": "stdout",
     "output_type": "stream",
     "text": [
      "Advertencia: No se encontró la imagen ISIC_0030586.jpg en la carpeta de ISIC 2019.\n",
      "Advertencia: No se encontró la imagen ISIC_0030655.jpg en la carpeta de ISIC 2019.\n"
     ]
    },
    {
     "name": "stderr",
     "output_type": "stream",
     "text": [
      "ISIC 2019:  37%|███▋      | 9227/24703 [00:19<00:36, 427.56it/s]"
     ]
    },
    {
     "name": "stdout",
     "output_type": "stream",
     "text": [
      "Advertencia: No se encontró la imagen ISIC_0030730.jpg en la carpeta de ISIC 2019.\n"
     ]
    },
    {
     "name": "stderr",
     "output_type": "stream",
     "text": [
      "ISIC 2019:  38%|███▊      | 9364/24703 [00:20<00:34, 440.13it/s]"
     ]
    },
    {
     "name": "stdout",
     "output_type": "stream",
     "text": [
      "Advertencia: No se encontró la imagen ISIC_0030825.jpg en la carpeta de ISIC 2019.\n",
      "Advertencia: No se encontró la imagen ISIC_0030826.jpg en la carpeta de ISIC 2019.\n",
      "Advertencia: No se encontró la imagen ISIC_0030877.jpg en la carpeta de ISIC 2019.\n"
     ]
    },
    {
     "name": "stderr",
     "output_type": "stream",
     "text": [
      "ISIC 2019:  39%|███▊      | 9548/24703 [00:20<00:33, 446.20it/s]"
     ]
    },
    {
     "name": "stdout",
     "output_type": "stream",
     "text": [
      "Advertencia: No se encontró la imagen ISIC_0031040.jpg en la carpeta de ISIC 2019.\n",
      "Advertencia: No se encontró la imagen ISIC_0031108.jpg en la carpeta de ISIC 2019.\n"
     ]
    },
    {
     "name": "stderr",
     "output_type": "stream",
     "text": [
      "ISIC 2019:  39%|███▉      | 9736/24703 [00:20<00:33, 451.77it/s]"
     ]
    },
    {
     "name": "stdout",
     "output_type": "stream",
     "text": [
      "Advertencia: No se encontró la imagen ISIC_0031228.jpg en la carpeta de ISIC 2019.\n",
      "Advertencia: No se encontró la imagen ISIC_0031292.jpg en la carpeta de ISIC 2019.\n"
     ]
    },
    {
     "name": "stderr",
     "output_type": "stream",
     "text": [
      "ISIC 2019:  40%|███▉      | 9833/24703 [00:21<00:31, 465.94it/s]"
     ]
    },
    {
     "name": "stdout",
     "output_type": "stream",
     "text": [
      "Advertencia: No se encontró la imagen ISIC_0031335.jpg en la carpeta de ISIC 2019.\n",
      "Advertencia: No se encontró la imagen ISIC_0031381.jpg en la carpeta de ISIC 2019.\n",
      "Advertencia: No se encontró la imagen ISIC_0031430.jpg en la carpeta de ISIC 2019.\n"
     ]
    },
    {
     "name": "stderr",
     "output_type": "stream",
     "text": [
      "ISIC 2019:  41%|████      | 10032/24703 [00:21<00:30, 481.69it/s]"
     ]
    },
    {
     "name": "stdout",
     "output_type": "stream",
     "text": [
      "Advertencia: No se encontró la imagen ISIC_0031506.jpg en la carpeta de ISIC 2019.\n"
     ]
    },
    {
     "name": "stderr",
     "output_type": "stream",
     "text": [
      "ISIC 2019:  41%|████      | 10081/24703 [00:21<00:30, 482.31it/s]"
     ]
    },
    {
     "name": "stdout",
     "output_type": "stream",
     "text": [
      "Advertencia: No se encontró la imagen ISIC_0031609.jpg en la carpeta de ISIC 2019.\n"
     ]
    },
    {
     "name": "stderr",
     "output_type": "stream",
     "text": [
      "ISIC 2019:  42%|████▏     | 10317/24703 [00:22<00:32, 446.88it/s]"
     ]
    },
    {
     "name": "stdout",
     "output_type": "stream",
     "text": [
      "Advertencia: No se encontró la imagen ISIC_0031823.jpg en la carpeta de ISIC 2019.\n"
     ]
    },
    {
     "name": "stderr",
     "output_type": "stream",
     "text": [
      "ISIC 2019:  42%|████▏     | 10406/24703 [00:22<00:33, 424.95it/s]"
     ]
    },
    {
     "name": "stdout",
     "output_type": "stream",
     "text": [
      "Advertencia: No se encontró la imagen ISIC_0031922.jpg en la carpeta de ISIC 2019.\n",
      "Advertencia: No se encontró la imagen ISIC_0031993.jpg en la carpeta de ISIC 2019.\n"
     ]
    },
    {
     "name": "stderr",
     "output_type": "stream",
     "text": [
      "ISIC 2019:  43%|████▎     | 10648/24703 [00:23<00:30, 462.79it/s]"
     ]
    },
    {
     "name": "stdout",
     "output_type": "stream",
     "text": [
      "Advertencia: No se encontró la imagen ISIC_0032135.jpg en la carpeta de ISIC 2019.\n",
      "Advertencia: No se encontró la imagen ISIC_0032199.jpg en la carpeta de ISIC 2019.\n",
      "Advertencia: No se encontró la imagen ISIC_0032206.jpg en la carpeta de ISIC 2019.\n"
     ]
    },
    {
     "name": "stderr",
     "output_type": "stream",
     "text": [
      "ISIC 2019:  44%|████▍     | 10883/24703 [00:23<00:31, 442.75it/s]"
     ]
    },
    {
     "name": "stdout",
     "output_type": "stream",
     "text": [
      "Advertencia: No se encontró la imagen ISIC_0032404.jpg en la carpeta de ISIC 2019.\n",
      "Advertencia: No se encontró la imagen ISIC_0032422.jpg en la carpeta de ISIC 2019.\n",
      "Advertencia: No se encontró la imagen ISIC_0032437.jpg en la carpeta de ISIC 2019.\n"
     ]
    },
    {
     "name": "stderr",
     "output_type": "stream",
     "text": [
      "ISIC 2019:  46%|████▌     | 11348/24703 [00:24<00:29, 449.88it/s]"
     ]
    },
    {
     "name": "stdout",
     "output_type": "stream",
     "text": [
      "Advertencia: No se encontró la imagen ISIC_0032854.jpg en la carpeta de ISIC 2019.\n"
     ]
    },
    {
     "name": "stderr",
     "output_type": "stream",
     "text": [
      "ISIC 2019:  47%|████▋     | 11627/24703 [00:25<00:30, 433.72it/s]"
     ]
    },
    {
     "name": "stdout",
     "output_type": "stream",
     "text": [
      "Advertencia: No se encontró la imagen ISIC_0033151.jpg en la carpeta de ISIC 2019.\n"
     ]
    },
    {
     "name": "stderr",
     "output_type": "stream",
     "text": [
      "ISIC 2019:  48%|████▊     | 11816/24703 [00:25<00:28, 455.27it/s]"
     ]
    },
    {
     "name": "stdout",
     "output_type": "stream",
     "text": [
      "Advertencia: No se encontró la imagen ISIC_0033358.jpg en la carpeta de ISIC 2019.\n",
      "Advertencia: No se encontró la imagen ISIC_0033413.jpg en la carpeta de ISIC 2019.\n",
      "Advertencia: No se encontró la imagen ISIC_0033456.jpg en la carpeta de ISIC 2019.\n"
     ]
    },
    {
     "name": "stderr",
     "output_type": "stream",
     "text": [
      "ISIC 2019:  48%|████▊     | 11957/24703 [00:26<00:30, 422.24it/s]"
     ]
    },
    {
     "name": "stdout",
     "output_type": "stream",
     "text": [
      "Advertencia: No se encontró la imagen ISIC_0033494.jpg en la carpeta de ISIC 2019.\n"
     ]
    },
    {
     "name": "stderr",
     "output_type": "stream",
     "text": [
      "ISIC 2019:  49%|████▉     | 12187/24703 [00:26<00:29, 430.27it/s]"
     ]
    },
    {
     "name": "stdout",
     "output_type": "stream",
     "text": [
      "Advertencia: No se encontró la imagen ISIC_0033705.jpg en la carpeta de ISIC 2019.\n"
     ]
    },
    {
     "name": "stderr",
     "output_type": "stream",
     "text": [
      "ISIC 2019:  50%|████▉     | 12286/24703 [00:26<00:26, 461.40it/s]"
     ]
    },
    {
     "name": "stdout",
     "output_type": "stream",
     "text": [
      "Advertencia: No se encontró la imagen ISIC_0033811.jpg en la carpeta de ISIC 2019.\n",
      "Advertencia: No se encontró la imagen ISIC_0033866.jpg en la carpeta de ISIC 2019.\n"
     ]
    },
    {
     "name": "stderr",
     "output_type": "stream",
     "text": [
      "ISIC 2019:  52%|█████▏    | 12794/24703 [00:27<00:30, 389.33it/s]"
     ]
    },
    {
     "name": "stdout",
     "output_type": "stream",
     "text": [
      "Advertencia: No se encontró la imagen ISIC_0053478.jpg en la carpeta de ISIC 2019.\n",
      "Advertencia: No se encontró la imagen ISIC_0053506.jpg en la carpeta de ISIC 2019.\n",
      "Advertencia: No se encontró la imagen ISIC_0053515.jpg en la carpeta de ISIC 2019.\n",
      "Advertencia: No se encontró la imagen ISIC_0053538.jpg en la carpeta de ISIC 2019.\n",
      "Advertencia: No se encontró la imagen ISIC_0053563.jpg en la carpeta de ISIC 2019.\n",
      "Advertencia: No se encontró la imagen ISIC_0053595.jpg en la carpeta de ISIC 2019.\n",
      "Advertencia: No se encontró la imagen ISIC_0053597.jpg en la carpeta de ISIC 2019.\n"
     ]
    },
    {
     "name": "stderr",
     "output_type": "stream",
     "text": [
      "ISIC 2019:  52%|█████▏    | 12915/24703 [00:28<00:31, 374.74it/s]"
     ]
    },
    {
     "name": "stdout",
     "output_type": "stream",
     "text": [
      "Advertencia: No se encontró la imagen ISIC_0053657.jpg en la carpeta de ISIC 2019.\n",
      "Advertencia: No se encontró la imagen ISIC_0053664.jpg en la carpeta de ISIC 2019.\n",
      "Advertencia: No se encontró la imagen ISIC_0053666.jpg en la carpeta de ISIC 2019.\n",
      "Advertencia: No se encontró la imagen ISIC_0053679.jpg en la carpeta de ISIC 2019.\n",
      "Advertencia: No se encontró la imagen ISIC_0053688.jpg en la carpeta de ISIC 2019.\n",
      "Advertencia: No se encontró la imagen ISIC_0053708.jpg en la carpeta de ISIC 2019.\n",
      "Advertencia: No se encontró la imagen ISIC_0053736.jpg en la carpeta de ISIC 2019.\n",
      "Advertencia: No se encontró la imagen ISIC_0053738.jpg en la carpeta de ISIC 2019.\n",
      "Advertencia: No se encontró la imagen ISIC_0053749.jpg en la carpeta de ISIC 2019.\n",
      "Advertencia: No se encontró la imagen ISIC_0053764.jpg en la carpeta de ISIC 2019.\n"
     ]
    },
    {
     "name": "stderr",
     "output_type": "stream",
     "text": [
      "ISIC 2019:  53%|█████▎    | 12999/24703 [00:28<00:29, 394.80it/s]"
     ]
    },
    {
     "name": "stdout",
     "output_type": "stream",
     "text": [
      "Advertencia: No se encontró la imagen ISIC_0053799.jpg en la carpeta de ISIC 2019.\n",
      "Advertencia: No se encontró la imagen ISIC_0053826.jpg en la carpeta de ISIC 2019.\n",
      "Advertencia: No se encontró la imagen ISIC_0053879.jpg en la carpeta de ISIC 2019.\n",
      "Advertencia: No se encontró la imagen ISIC_0053892.jpg en la carpeta de ISIC 2019.\n",
      "Advertencia: No se encontró la imagen ISIC_0053944.jpg en la carpeta de ISIC 2019.\n",
      "Advertencia: No se encontró la imagen ISIC_0053950.jpg en la carpeta de ISIC 2019.\n"
     ]
    },
    {
     "name": "stderr",
     "output_type": "stream",
     "text": [
      "ISIC 2019:  53%|█████▎    | 13119/24703 [00:28<00:30, 374.67it/s]"
     ]
    },
    {
     "name": "stdout",
     "output_type": "stream",
     "text": [
      "Advertencia: No se encontró la imagen ISIC_0054081.jpg en la carpeta de ISIC 2019.\n",
      "Advertencia: No se encontró la imagen ISIC_0054118.jpg en la carpeta de ISIC 2019.\n",
      "Advertencia: No se encontró la imagen ISIC_0054127.jpg en la carpeta de ISIC 2019.\n",
      "Advertencia: No se encontró la imagen ISIC_0054137.jpg en la carpeta de ISIC 2019.\n",
      "Advertencia: No se encontró la imagen ISIC_0054178.jpg en la carpeta de ISIC 2019.\n",
      "Advertencia: No se encontró la imagen ISIC_0054181.jpg en la carpeta de ISIC 2019.\n",
      "Advertencia: No se encontró la imagen ISIC_0054209.jpg en la carpeta de ISIC 2019.\n"
     ]
    },
    {
     "name": "stderr",
     "output_type": "stream",
     "text": [
      "ISIC 2019:  54%|█████▎    | 13247/24703 [00:29<00:28, 403.36it/s]"
     ]
    },
    {
     "name": "stdout",
     "output_type": "stream",
     "text": [
      "Advertencia: No se encontró la imagen ISIC_0054223.jpg en la carpeta de ISIC 2019.\n",
      "Advertencia: No se encontró la imagen ISIC_0054259.jpg en la carpeta de ISIC 2019.\n",
      "Advertencia: No se encontró la imagen ISIC_0054271.jpg en la carpeta de ISIC 2019.\n",
      "Advertencia: No se encontró la imagen ISIC_0054272.jpg en la carpeta de ISIC 2019.\n",
      "Advertencia: No se encontró la imagen ISIC_0054333.jpg en la carpeta de ISIC 2019.\n"
     ]
    },
    {
     "name": "stderr",
     "output_type": "stream",
     "text": [
      "ISIC 2019:  54%|█████▍    | 13288/24703 [00:29<00:28, 399.53it/s]"
     ]
    },
    {
     "name": "stdout",
     "output_type": "stream",
     "text": [
      "Advertencia: No se encontró la imagen ISIC_0054359.jpg en la carpeta de ISIC 2019.\n",
      "Advertencia: No se encontró la imagen ISIC_0054432.jpg en la carpeta de ISIC 2019.\n",
      "Advertencia: No se encontró la imagen ISIC_0054433.jpg en la carpeta de ISIC 2019.\n"
     ]
    },
    {
     "name": "stderr",
     "output_type": "stream",
     "text": [
      "ISIC 2019:  54%|█████▍    | 13421/24703 [00:29<00:27, 410.66it/s]"
     ]
    },
    {
     "name": "stdout",
     "output_type": "stream",
     "text": [
      "Advertencia: No se encontró la imagen ISIC_0054531.jpg en la carpeta de ISIC 2019.\n",
      "Advertencia: No se encontró la imagen ISIC_0054533.jpg en la carpeta de ISIC 2019.\n",
      "Advertencia: No se encontró la imagen ISIC_0054556.jpg en la carpeta de ISIC 2019.\n",
      "Advertencia: No se encontró la imagen ISIC_0054583.jpg en la carpeta de ISIC 2019.\n",
      "Advertencia: No se encontró la imagen ISIC_0054592.jpg en la carpeta de ISIC 2019.\n",
      "Advertencia: No se encontró la imagen ISIC_0054594.jpg en la carpeta de ISIC 2019.\n",
      "Advertencia: No se encontró la imagen ISIC_0054598.jpg en la carpeta de ISIC 2019.\n",
      "Advertencia: No se encontró la imagen ISIC_0054634.jpg en la carpeta de ISIC 2019.\n",
      "Advertencia: No se encontró la imagen ISIC_0054635.jpg en la carpeta de ISIC 2019.\n",
      "Advertencia: No se encontró la imagen ISIC_0054666.jpg en la carpeta de ISIC 2019.\n"
     ]
    },
    {
     "name": "stderr",
     "output_type": "stream",
     "text": [
      "ISIC 2019:  55%|█████▍    | 13504/24703 [00:29<00:27, 405.84it/s]"
     ]
    },
    {
     "name": "stdout",
     "output_type": "stream",
     "text": [
      "Advertencia: No se encontró la imagen ISIC_0054687.jpg en la carpeta de ISIC 2019.\n",
      "Advertencia: No se encontró la imagen ISIC_0054689.jpg en la carpeta de ISIC 2019.\n",
      "Advertencia: No se encontró la imagen ISIC_0054805.jpg en la carpeta de ISIC 2019.\n"
     ]
    },
    {
     "name": "stderr",
     "output_type": "stream",
     "text": [
      "ISIC 2019:  55%|█████▌    | 13636/24703 [00:30<00:27, 407.63it/s]"
     ]
    },
    {
     "name": "stdout",
     "output_type": "stream",
     "text": [
      "Advertencia: No se encontró la imagen ISIC_0054878.jpg en la carpeta de ISIC 2019.\n",
      "Advertencia: No se encontró la imagen ISIC_0054899.jpg en la carpeta de ISIC 2019.\n",
      "Advertencia: No se encontró la imagen ISIC_0054908.jpg en la carpeta de ISIC 2019.\n",
      "Advertencia: No se encontró la imagen ISIC_0054921.jpg en la carpeta de ISIC 2019.\n"
     ]
    },
    {
     "name": "stderr",
     "output_type": "stream",
     "text": [
      "ISIC 2019:  56%|█████▌    | 13763/24703 [00:30<00:26, 412.16it/s]"
     ]
    },
    {
     "name": "stdout",
     "output_type": "stream",
     "text": [
      "Advertencia: No se encontró la imagen ISIC_0055099.jpg en la carpeta de ISIC 2019.\n",
      "Advertencia: No se encontró la imagen ISIC_0055159.jpg en la carpeta de ISIC 2019.\n",
      "Advertencia: No se encontró la imagen ISIC_0055176.jpg en la carpeta de ISIC 2019.\n",
      "Advertencia: No se encontró la imagen ISIC_0055250.jpg en la carpeta de ISIC 2019.\n",
      "Advertencia: No se encontró la imagen ISIC_0055259.jpg en la carpeta de ISIC 2019.\n",
      "Advertencia: No se encontró la imagen ISIC_0055260.jpg en la carpeta de ISIC 2019.\n"
     ]
    },
    {
     "name": "stderr",
     "output_type": "stream",
     "text": [
      "ISIC 2019:  56%|█████▌    | 13851/24703 [00:30<00:25, 421.93it/s]"
     ]
    },
    {
     "name": "stdout",
     "output_type": "stream",
     "text": [
      "Advertencia: No se encontró la imagen ISIC_0055273.jpg en la carpeta de ISIC 2019.\n",
      "Advertencia: No se encontró la imagen ISIC_0055331.jpg en la carpeta de ISIC 2019.\n",
      "Advertencia: No se encontró la imagen ISIC_0055374.jpg en la carpeta de ISIC 2019.\n",
      "Advertencia: No se encontró la imagen ISIC_0055400.jpg en la carpeta de ISIC 2019.\n"
     ]
    },
    {
     "name": "stderr",
     "output_type": "stream",
     "text": [
      "ISIC 2019:  57%|█████▋    | 13985/24703 [00:30<00:24, 432.59it/s]"
     ]
    },
    {
     "name": "stdout",
     "output_type": "stream",
     "text": [
      "Advertencia: No se encontró la imagen ISIC_0055452.jpg en la carpeta de ISIC 2019.\n",
      "Advertencia: No se encontró la imagen ISIC_0055475.jpg en la carpeta de ISIC 2019.\n",
      "Advertencia: No se encontró la imagen ISIC_0055596.jpg en la carpeta de ISIC 2019.\n",
      "Advertencia: No se encontró la imagen ISIC_0055609.jpg en la carpeta de ISIC 2019.\n"
     ]
    },
    {
     "name": "stderr",
     "output_type": "stream",
     "text": [
      "ISIC 2019:  57%|█████▋    | 14075/24703 [00:31<00:24, 433.54it/s]"
     ]
    },
    {
     "name": "stdout",
     "output_type": "stream",
     "text": [
      "Advertencia: No se encontró la imagen ISIC_0055639.jpg en la carpeta de ISIC 2019.\n",
      "Advertencia: No se encontró la imagen ISIC_0055686.jpg en la carpeta de ISIC 2019.\n",
      "Advertencia: No se encontró la imagen ISIC_0055689.jpg en la carpeta de ISIC 2019.\n",
      "Advertencia: No se encontró la imagen ISIC_0055724.jpg en la carpeta de ISIC 2019.\n",
      "Advertencia: No se encontró la imagen ISIC_0055732.jpg en la carpeta de ISIC 2019.\n"
     ]
    },
    {
     "name": "stderr",
     "output_type": "stream",
     "text": [
      "ISIC 2019:  58%|█████▊    | 14214/24703 [00:31<00:25, 418.93it/s]"
     ]
    },
    {
     "name": "stdout",
     "output_type": "stream",
     "text": [
      "Advertencia: No se encontró la imagen ISIC_0055809.jpg en la carpeta de ISIC 2019.\n",
      "Advertencia: No se encontró la imagen ISIC_0055838.jpg en la carpeta de ISIC 2019.\n",
      "Advertencia: No se encontró la imagen ISIC_0055844.jpg en la carpeta de ISIC 2019.\n",
      "Advertencia: No se encontró la imagen ISIC_0055889.jpg en la carpeta de ISIC 2019.\n",
      "Advertencia: No se encontró la imagen ISIC_0055908.jpg en la carpeta de ISIC 2019.\n"
     ]
    },
    {
     "name": "stderr",
     "output_type": "stream",
     "text": [
      "ISIC 2019:  58%|█████▊    | 14310/24703 [00:31<00:23, 447.67it/s]"
     ]
    },
    {
     "name": "stdout",
     "output_type": "stream",
     "text": [
      "Advertencia: No se encontró la imagen ISIC_0055977.jpg en la carpeta de ISIC 2019.\n",
      "Advertencia: No se encontró la imagen ISIC_0055989.jpg en la carpeta de ISIC 2019.\n",
      "Advertencia: No se encontró la imagen ISIC_0056002.jpg en la carpeta de ISIC 2019.\n",
      "Advertencia: No se encontró la imagen ISIC_0056004.jpg en la carpeta de ISIC 2019.\n",
      "Advertencia: No se encontró la imagen ISIC_0056005.jpg en la carpeta de ISIC 2019.\n",
      "Advertencia: No se encontró la imagen ISIC_0056016.jpg en la carpeta de ISIC 2019.\n",
      "Advertencia: No se encontró la imagen ISIC_0056037.jpg en la carpeta de ISIC 2019.\n",
      "Advertencia: No se encontró la imagen ISIC_0056052.jpg en la carpeta de ISIC 2019.\n",
      "Advertencia: No se encontró la imagen ISIC_0056071.jpg en la carpeta de ISIC 2019.\n",
      "Advertencia: No se encontró la imagen ISIC_0056073.jpg en la carpeta de ISIC 2019.\n",
      "Advertencia: No se encontró la imagen ISIC_0056101.jpg en la carpeta de ISIC 2019.\n",
      "Advertencia: No se encontró la imagen ISIC_0056115.jpg en la carpeta de ISIC 2019.\n",
      "Advertencia: No se encontró la imagen ISIC_0056128.jpg en la carpeta de ISIC 2019.\n"
     ]
    },
    {
     "name": "stderr",
     "output_type": "stream",
     "text": [
      "ISIC 2019:  58%|█████▊    | 14399/24703 [00:31<00:24, 416.70it/s]"
     ]
    },
    {
     "name": "stdout",
     "output_type": "stream",
     "text": [
      "Advertencia: No se encontró la imagen ISIC_0056159.jpg en la carpeta de ISIC 2019.\n",
      "Advertencia: No se encontró la imagen ISIC_0056166.jpg en la carpeta de ISIC 2019.\n",
      "Advertencia: No se encontró la imagen ISIC_0056176.jpg en la carpeta de ISIC 2019.\n",
      "Advertencia: No se encontró la imagen ISIC_0056273.jpg en la carpeta de ISIC 2019.\n",
      "Advertencia: No se encontró la imagen ISIC_0056278.jpg en la carpeta de ISIC 2019.\n"
     ]
    },
    {
     "name": "stderr",
     "output_type": "stream",
     "text": [
      "ISIC 2019:  59%|█████▊    | 14488/24703 [00:32<00:23, 428.24it/s]"
     ]
    },
    {
     "name": "stdout",
     "output_type": "stream",
     "text": [
      "Advertencia: No se encontró la imagen ISIC_0056302.jpg en la carpeta de ISIC 2019.\n",
      "Advertencia: No se encontró la imagen ISIC_0056343.jpg en la carpeta de ISIC 2019.\n",
      "Advertencia: No se encontró la imagen ISIC_0056419.jpg en la carpeta de ISIC 2019.\n",
      "Advertencia: No se encontró la imagen ISIC_0056421.jpg en la carpeta de ISIC 2019.\n",
      "Advertencia: No se encontró la imagen ISIC_0056437.jpg en la carpeta de ISIC 2019.\n"
     ]
    },
    {
     "name": "stderr",
     "output_type": "stream",
     "text": [
      "ISIC 2019:  59%|█████▉    | 14575/24703 [00:32<00:25, 390.22it/s]"
     ]
    },
    {
     "name": "stdout",
     "output_type": "stream",
     "text": [
      "Advertencia: No se encontró la imagen ISIC_0056504.jpg en la carpeta de ISIC 2019.\n",
      "Advertencia: No se encontró la imagen ISIC_0056520.jpg en la carpeta de ISIC 2019.\n",
      "Advertencia: No se encontró la imagen ISIC_0056529.jpg en la carpeta de ISIC 2019.\n",
      "Advertencia: No se encontró la imagen ISIC_0056582.jpg en la carpeta de ISIC 2019.\n",
      "Advertencia: No se encontró la imagen ISIC_0056613.jpg en la carpeta de ISIC 2019.\n",
      "Advertencia: No se encontró la imagen ISIC_0056630.jpg en la carpeta de ISIC 2019.\n"
     ]
    },
    {
     "name": "stderr",
     "output_type": "stream",
     "text": [
      "ISIC 2019:  59%|█████▉    | 14665/24703 [00:32<00:24, 413.25it/s]"
     ]
    },
    {
     "name": "stdout",
     "output_type": "stream",
     "text": [
      "Advertencia: No se encontró la imagen ISIC_0056643.jpg en la carpeta de ISIC 2019.\n",
      "Advertencia: No se encontró la imagen ISIC_0056662.jpg en la carpeta de ISIC 2019.\n",
      "Advertencia: No se encontró la imagen ISIC_0056724.jpg en la carpeta de ISIC 2019.\n",
      "Advertencia: No se encontró la imagen ISIC_0056745.jpg en la carpeta de ISIC 2019.\n",
      "Advertencia: No se encontró la imagen ISIC_0056756.jpg en la carpeta de ISIC 2019.\n",
      "Advertencia: No se encontró la imagen ISIC_0056773.jpg en la carpeta de ISIC 2019.\n"
     ]
    },
    {
     "name": "stderr",
     "output_type": "stream",
     "text": [
      "ISIC 2019:  60%|█████▉    | 14787/24703 [00:32<00:26, 373.02it/s]"
     ]
    },
    {
     "name": "stdout",
     "output_type": "stream",
     "text": [
      "Advertencia: No se encontró la imagen ISIC_0056867.jpg en la carpeta de ISIC 2019.\n",
      "Advertencia: No se encontró la imagen ISIC_0056898.jpg en la carpeta de ISIC 2019.\n",
      "Advertencia: No se encontró la imagen ISIC_0056904.jpg en la carpeta de ISIC 2019.\n",
      "Advertencia: No se encontró la imagen ISIC_0056905.jpg en la carpeta de ISIC 2019.\n",
      "Advertencia: No se encontró la imagen ISIC_0056920.jpg en la carpeta de ISIC 2019.\n"
     ]
    },
    {
     "name": "stderr",
     "output_type": "stream",
     "text": [
      "ISIC 2019:  60%|██████    | 14899/24703 [00:33<00:27, 359.21it/s]"
     ]
    },
    {
     "name": "stdout",
     "output_type": "stream",
     "text": [
      "Advertencia: No se encontró la imagen ISIC_0057022.jpg en la carpeta de ISIC 2019.\n",
      "Advertencia: No se encontró la imagen ISIC_0057038.jpg en la carpeta de ISIC 2019.\n",
      "Advertencia: No se encontró la imagen ISIC_0057040.jpg en la carpeta de ISIC 2019.\n",
      "Advertencia: No se encontró la imagen ISIC_0057042.jpg en la carpeta de ISIC 2019.\n",
      "Advertencia: No se encontró la imagen ISIC_0057051.jpg en la carpeta de ISIC 2019.\n",
      "Advertencia: No se encontró la imagen ISIC_0057052.jpg en la carpeta de ISIC 2019.\n",
      "Advertencia: No se encontró la imagen ISIC_0057072.jpg en la carpeta de ISIC 2019.\n",
      "Advertencia: No se encontró la imagen ISIC_0057077.jpg en la carpeta de ISIC 2019.\n",
      "Advertencia: No se encontró la imagen ISIC_0057110.jpg en la carpeta de ISIC 2019.\n",
      "Advertencia: No se encontró la imagen ISIC_0057126.jpg en la carpeta de ISIC 2019.\n",
      "Advertencia: No se encontró la imagen ISIC_0057135.jpg en la carpeta de ISIC 2019.\n",
      "Advertencia: No se encontró la imagen ISIC_0057145.jpg en la carpeta de ISIC 2019.\n"
     ]
    },
    {
     "name": "stderr",
     "output_type": "stream",
     "text": [
      "ISIC 2019:  61%|██████    | 14982/24703 [00:33<00:25, 387.44it/s]"
     ]
    },
    {
     "name": "stdout",
     "output_type": "stream",
     "text": [
      "Advertencia: No se encontró la imagen ISIC_0057157.jpg en la carpeta de ISIC 2019.\n",
      "Advertencia: No se encontró la imagen ISIC_0057225.jpg en la carpeta de ISIC 2019.\n",
      "Advertencia: No se encontró la imagen ISIC_0057280.jpg en la carpeta de ISIC 2019.\n"
     ]
    },
    {
     "name": "stderr",
     "output_type": "stream",
     "text": [
      "ISIC 2019:  61%|██████    | 15098/24703 [00:33<00:27, 348.32it/s]"
     ]
    },
    {
     "name": "stdout",
     "output_type": "stream",
     "text": [
      "Advertencia: No se encontró la imagen ISIC_0057351.jpg en la carpeta de ISIC 2019.\n",
      "Advertencia: No se encontró la imagen ISIC_0057357.jpg en la carpeta de ISIC 2019.\n",
      "Advertencia: No se encontró la imagen ISIC_0057387.jpg en la carpeta de ISIC 2019.\n",
      "Advertencia: No se encontró la imagen ISIC_0057431.jpg en la carpeta de ISIC 2019.\n",
      "Advertencia: No se encontró la imagen ISIC_0057437.jpg en la carpeta de ISIC 2019.\n",
      "Advertencia: No se encontró la imagen ISIC_0057449.jpg en la carpeta de ISIC 2019.\n",
      "Advertencia: No se encontró la imagen ISIC_0057455.jpg en la carpeta de ISIC 2019.\n",
      "Advertencia: No se encontró la imagen ISIC_0057458.jpg en la carpeta de ISIC 2019.\n"
     ]
    },
    {
     "name": "stderr",
     "output_type": "stream",
     "text": [
      "ISIC 2019:  61%|██████▏   | 15182/24703 [00:34<00:24, 381.87it/s]"
     ]
    },
    {
     "name": "stdout",
     "output_type": "stream",
     "text": [
      "Advertencia: No se encontró la imagen ISIC_0057477.jpg en la carpeta de ISIC 2019.\n",
      "Advertencia: No se encontró la imagen ISIC_0057517.jpg en la carpeta de ISIC 2019.\n",
      "Advertencia: No se encontró la imagen ISIC_0057526.jpg en la carpeta de ISIC 2019.\n",
      "Advertencia: No se encontró la imagen ISIC_0057547.jpg en la carpeta de ISIC 2019.\n",
      "Advertencia: No se encontró la imagen ISIC_0057575.jpg en la carpeta de ISIC 2019.\n",
      "Advertencia: No se encontró la imagen ISIC_0057586.jpg en la carpeta de ISIC 2019.\n",
      "Advertencia: No se encontró la imagen ISIC_0057616.jpg en la carpeta de ISIC 2019.\n",
      "Advertencia: No se encontró la imagen ISIC_0057638.jpg en la carpeta de ISIC 2019.\n"
     ]
    },
    {
     "name": "stderr",
     "output_type": "stream",
     "text": [
      "ISIC 2019:  62%|██████▏   | 15267/24703 [00:34<00:24, 386.96it/s]"
     ]
    },
    {
     "name": "stdout",
     "output_type": "stream",
     "text": [
      "Advertencia: No se encontró la imagen ISIC_0057679.jpg en la carpeta de ISIC 2019.\n",
      "Advertencia: No se encontró la imagen ISIC_0057706.jpg en la carpeta de ISIC 2019.\n",
      "Advertencia: No se encontró la imagen ISIC_0057739.jpg en la carpeta de ISIC 2019.\n",
      "Advertencia: No se encontró la imagen ISIC_0057740.jpg en la carpeta de ISIC 2019.\n",
      "Advertencia: No se encontró la imagen ISIC_0057778.jpg en la carpeta de ISIC 2019.\n",
      "Advertencia: No se encontró la imagen ISIC_0057806.jpg en la carpeta de ISIC 2019.\n"
     ]
    },
    {
     "name": "stderr",
     "output_type": "stream",
     "text": [
      "ISIC 2019:  62%|██████▏   | 15345/24703 [00:34<00:29, 318.87it/s]"
     ]
    },
    {
     "name": "stdout",
     "output_type": "stream",
     "text": [
      "Advertencia: No se encontró la imagen ISIC_0057847.jpg en la carpeta de ISIC 2019.\n"
     ]
    },
    {
     "name": "stderr",
     "output_type": "stream",
     "text": [
      "ISIC 2019:  63%|██████▎   | 15467/24703 [00:34<00:24, 371.61it/s]"
     ]
    },
    {
     "name": "stdout",
     "output_type": "stream",
     "text": [
      "Advertencia: No se encontró la imagen ISIC_0057943.jpg en la carpeta de ISIC 2019.\n",
      "Advertencia: No se encontró la imagen ISIC_0057986.jpg en la carpeta de ISIC 2019.\n",
      "Advertencia: No se encontró la imagen ISIC_0057987.jpg en la carpeta de ISIC 2019.\n"
     ]
    },
    {
     "name": "stderr",
     "output_type": "stream",
     "text": [
      "ISIC 2019:  63%|██████▎   | 15543/24703 [00:35<00:25, 361.57it/s]"
     ]
    },
    {
     "name": "stdout",
     "output_type": "stream",
     "text": [
      "Advertencia: No se encontró la imagen ISIC_0058103.jpg en la carpeta de ISIC 2019.\n",
      "Advertencia: No se encontró la imagen ISIC_0058119.jpg en la carpeta de ISIC 2019.\n",
      "Advertencia: No se encontró la imagen ISIC_0058153.jpg en la carpeta de ISIC 2019.\n",
      "Advertencia: No se encontró la imagen ISIC_0058163.jpg en la carpeta de ISIC 2019.\n",
      "Advertencia: No se encontró la imagen ISIC_0058192.jpg en la carpeta de ISIC 2019.\n"
     ]
    },
    {
     "name": "stderr",
     "output_type": "stream",
     "text": [
      "ISIC 2019:  63%|██████▎   | 15614/24703 [00:35<00:28, 313.44it/s]"
     ]
    },
    {
     "name": "stdout",
     "output_type": "stream",
     "text": [
      "Advertencia: No se encontró la imagen ISIC_0058239.jpg en la carpeta de ISIC 2019.\n",
      "Advertencia: No se encontró la imagen ISIC_0058242.jpg en la carpeta de ISIC 2019.\n",
      "Advertencia: No se encontró la imagen ISIC_0058273.jpg en la carpeta de ISIC 2019.\n",
      "Advertencia: No se encontró la imagen ISIC_0058320.jpg en la carpeta de ISIC 2019.\n",
      "Advertencia: No se encontró la imagen ISIC_0058324.jpg en la carpeta de ISIC 2019.\n",
      "Advertencia: No se encontró la imagen ISIC_0058325.jpg en la carpeta de ISIC 2019.\n"
     ]
    },
    {
     "name": "stderr",
     "output_type": "stream",
     "text": [
      "ISIC 2019:  64%|██████▎   | 15706/24703 [00:35<00:23, 383.74it/s]"
     ]
    },
    {
     "name": "stdout",
     "output_type": "stream",
     "text": [
      "Advertencia: No se encontró la imagen ISIC_0058379.jpg en la carpeta de ISIC 2019.\n",
      "Advertencia: No se encontró la imagen ISIC_0058404.jpg en la carpeta de ISIC 2019.\n",
      "Advertencia: No se encontró la imagen ISIC_0058427.jpg en la carpeta de ISIC 2019.\n",
      "Advertencia: No se encontró la imagen ISIC_0058431.jpg en la carpeta de ISIC 2019.\n",
      "Advertencia: No se encontró la imagen ISIC_0058443.jpg en la carpeta de ISIC 2019.\n",
      "Advertencia: No se encontró la imagen ISIC_0058452.jpg en la carpeta de ISIC 2019.\n",
      "Advertencia: No se encontró la imagen ISIC_0058459.jpg en la carpeta de ISIC 2019.\n",
      "Advertencia: No se encontró la imagen ISIC_0058460.jpg en la carpeta de ISIC 2019.\n",
      "Advertencia: No se encontró la imagen ISIC_0058494.jpg en la carpeta de ISIC 2019.\n",
      "Advertencia: No se encontró la imagen ISIC_0058506.jpg en la carpeta de ISIC 2019.\n"
     ]
    },
    {
     "name": "stderr",
     "output_type": "stream",
     "text": [
      "ISIC 2019:  64%|██████▍   | 15785/24703 [00:35<00:24, 360.23it/s]"
     ]
    },
    {
     "name": "stdout",
     "output_type": "stream",
     "text": [
      "Advertencia: No se encontró la imagen ISIC_0058540.jpg en la carpeta de ISIC 2019.\n",
      "Advertencia: No se encontró la imagen ISIC_0058593.jpg en la carpeta de ISIC 2019.\n",
      "Advertencia: No se encontró la imagen ISIC_0058598.jpg en la carpeta de ISIC 2019.\n",
      "Advertencia: No se encontró la imagen ISIC_0058623.jpg en la carpeta de ISIC 2019.\n",
      "Advertencia: No se encontró la imagen ISIC_0058639.jpg en la carpeta de ISIC 2019.\n",
      "Advertencia: No se encontró la imagen ISIC_0058640.jpg en la carpeta de ISIC 2019.\n",
      "Advertencia: No se encontró la imagen ISIC_0058653.jpg en la carpeta de ISIC 2019.\n"
     ]
    },
    {
     "name": "stderr",
     "output_type": "stream",
     "text": [
      "ISIC 2019:  64%|██████▍   | 15922/24703 [00:36<00:21, 417.28it/s]"
     ]
    },
    {
     "name": "stdout",
     "output_type": "stream",
     "text": [
      "Advertencia: No se encontró la imagen ISIC_0058756.jpg en la carpeta de ISIC 2019.\n",
      "Advertencia: No se encontró la imagen ISIC_0058762.jpg en la carpeta de ISIC 2019.\n",
      "Advertencia: No se encontró la imagen ISIC_0058769.jpg en la carpeta de ISIC 2019.\n",
      "Advertencia: No se encontró la imagen ISIC_0058776.jpg en la carpeta de ISIC 2019.\n",
      "Advertencia: No se encontró la imagen ISIC_0058864.jpg en la carpeta de ISIC 2019.\n"
     ]
    },
    {
     "name": "stderr",
     "output_type": "stream",
     "text": [
      "ISIC 2019:  65%|██████▌   | 16058/24703 [00:36<00:19, 433.81it/s]"
     ]
    },
    {
     "name": "stdout",
     "output_type": "stream",
     "text": [
      "Advertencia: No se encontró la imagen ISIC_0058884.jpg en la carpeta de ISIC 2019.\n",
      "Advertencia: No se encontró la imagen ISIC_0058890.jpg en la carpeta de ISIC 2019.\n",
      "Advertencia: No se encontró la imagen ISIC_0058902.jpg en la carpeta de ISIC 2019.\n",
      "Advertencia: No se encontró la imagen ISIC_0058924.jpg en la carpeta de ISIC 2019.\n",
      "Advertencia: No se encontró la imagen ISIC_0058939.jpg en la carpeta de ISIC 2019.\n",
      "Advertencia: No se encontró la imagen ISIC_0058940.jpg en la carpeta de ISIC 2019.\n",
      "Advertencia: No se encontró la imagen ISIC_0058951.jpg en la carpeta de ISIC 2019.\n",
      "Advertencia: No se encontró la imagen ISIC_0058967.jpg en la carpeta de ISIC 2019.\n",
      "Advertencia: No se encontró la imagen ISIC_0058971.jpg en la carpeta de ISIC 2019.\n",
      "Advertencia: No se encontró la imagen ISIC_0058983.jpg en la carpeta de ISIC 2019.\n",
      "Advertencia: No se encontró la imagen ISIC_0058988.jpg en la carpeta de ISIC 2019.\n",
      "Advertencia: No se encontró la imagen ISIC_0058994.jpg en la carpeta de ISIC 2019.\n",
      "Advertencia: No se encontró la imagen ISIC_0059014.jpg en la carpeta de ISIC 2019.\n",
      "Advertencia: No se encontró la imagen ISIC_0059032.jpg en la carpeta de ISIC 2019.\n"
     ]
    },
    {
     "name": "stderr",
     "output_type": "stream",
     "text": [
      "ISIC 2019:  65%|██████▌   | 16145/24703 [00:36<00:21, 403.45it/s]"
     ]
    },
    {
     "name": "stdout",
     "output_type": "stream",
     "text": [
      "Advertencia: No se encontró la imagen ISIC_0059058.jpg en la carpeta de ISIC 2019.\n",
      "Advertencia: No se encontró la imagen ISIC_0059087.jpg en la carpeta de ISIC 2019.\n",
      "Advertencia: No se encontró la imagen ISIC_0059108.jpg en la carpeta de ISIC 2019.\n",
      "Advertencia: No se encontró la imagen ISIC_0059139.jpg en la carpeta de ISIC 2019.\n",
      "Advertencia: No se encontró la imagen ISIC_0059146.jpg en la carpeta de ISIC 2019.\n",
      "Advertencia: No se encontró la imagen ISIC_0059182.jpg en la carpeta de ISIC 2019.\n"
     ]
    },
    {
     "name": "stderr",
     "output_type": "stream",
     "text": [
      "ISIC 2019:  66%|██████▌   | 16231/24703 [00:36<00:20, 414.59it/s]"
     ]
    },
    {
     "name": "stdout",
     "output_type": "stream",
     "text": [
      "Advertencia: No se encontró la imagen ISIC_0059198.jpg en la carpeta de ISIC 2019.\n",
      "Advertencia: No se encontró la imagen ISIC_0059211.jpg en la carpeta de ISIC 2019.\n",
      "Advertencia: No se encontró la imagen ISIC_0059250.jpg en la carpeta de ISIC 2019.\n"
     ]
    },
    {
     "name": "stderr",
     "output_type": "stream",
     "text": [
      "ISIC 2019:  66%|██████▌   | 16316/24703 [00:36<00:20, 417.47it/s]"
     ]
    },
    {
     "name": "stdout",
     "output_type": "stream",
     "text": [
      "Advertencia: No se encontró la imagen ISIC_0059360.jpg en la carpeta de ISIC 2019.\n",
      "Advertencia: No se encontró la imagen ISIC_0059372.jpg en la carpeta de ISIC 2019.\n",
      "Advertencia: No se encontró la imagen ISIC_0059397.jpg en la carpeta de ISIC 2019.\n",
      "Advertencia: No se encontró la imagen ISIC_0059408.jpg en la carpeta de ISIC 2019.\n"
     ]
    },
    {
     "name": "stderr",
     "output_type": "stream",
     "text": [
      "ISIC 2019:  67%|██████▋   | 16438/24703 [00:37<00:21, 385.39it/s]"
     ]
    },
    {
     "name": "stdout",
     "output_type": "stream",
     "text": [
      "Advertencia: No se encontró la imagen ISIC_0059540.jpg en la carpeta de ISIC 2019.\n",
      "Advertencia: No se encontró la imagen ISIC_0059561.jpg en la carpeta de ISIC 2019.\n",
      "Advertencia: No se encontró la imagen ISIC_0059572.jpg en la carpeta de ISIC 2019.\n",
      "Advertencia: No se encontró la imagen ISIC_0059588.jpg en la carpeta de ISIC 2019.\n"
     ]
    },
    {
     "name": "stderr",
     "output_type": "stream",
     "text": [
      "ISIC 2019:  67%|██████▋   | 16519/24703 [00:37<00:20, 393.69it/s]"
     ]
    },
    {
     "name": "stdout",
     "output_type": "stream",
     "text": [
      "Advertencia: No se encontró la imagen ISIC_0059709.jpg en la carpeta de ISIC 2019.\n",
      "Advertencia: No se encontró la imagen ISIC_0059720.jpg en la carpeta de ISIC 2019.\n",
      "Advertencia: No se encontró la imagen ISIC_0059759.jpg en la carpeta de ISIC 2019.\n",
      "Advertencia: No se encontró la imagen ISIC_0059789.jpg en la carpeta de ISIC 2019.\n",
      "Advertencia: No se encontró la imagen ISIC_0059799.jpg en la carpeta de ISIC 2019.\n",
      "Advertencia: No se encontró la imagen ISIC_0059800.jpg en la carpeta de ISIC 2019.\n"
     ]
    },
    {
     "name": "stderr",
     "output_type": "stream",
     "text": [
      "ISIC 2019:  67%|██████▋   | 16605/24703 [00:37<00:21, 384.12it/s]"
     ]
    },
    {
     "name": "stdout",
     "output_type": "stream",
     "text": [
      "Advertencia: No se encontró la imagen ISIC_0059827.jpg en la carpeta de ISIC 2019.\n",
      "Advertencia: No se encontró la imagen ISIC_0059843.jpg en la carpeta de ISIC 2019.\n",
      "Advertencia: No se encontró la imagen ISIC_0059852.jpg en la carpeta de ISIC 2019.\n",
      "Advertencia: No se encontró la imagen ISIC_0059872.jpg en la carpeta de ISIC 2019.\n",
      "Advertencia: No se encontró la imagen ISIC_0059874.jpg en la carpeta de ISIC 2019.\n",
      "Advertencia: No se encontró la imagen ISIC_0059886.jpg en la carpeta de ISIC 2019.\n",
      "Advertencia: No se encontró la imagen ISIC_0059985.jpg en la carpeta de ISIC 2019.\n"
     ]
    },
    {
     "name": "stderr",
     "output_type": "stream",
     "text": [
      "ISIC 2019:  68%|██████▊   | 16737/24703 [00:38<00:18, 420.42it/s]"
     ]
    },
    {
     "name": "stdout",
     "output_type": "stream",
     "text": [
      "Advertencia: No se encontró la imagen ISIC_0060041.jpg en la carpeta de ISIC 2019.\n",
      "Advertencia: No se encontró la imagen ISIC_0060055.jpg en la carpeta de ISIC 2019.\n",
      "Advertencia: No se encontró la imagen ISIC_0060078.jpg en la carpeta de ISIC 2019.\n",
      "Advertencia: No se encontró la imagen ISIC_0060098.jpg en la carpeta de ISIC 2019.\n",
      "Advertencia: No se encontró la imagen ISIC_0060116.jpg en la carpeta de ISIC 2019.\n",
      "Advertencia: No se encontró la imagen ISIC_0060122.jpg en la carpeta de ISIC 2019.\n",
      "Advertencia: No se encontró la imagen ISIC_0060136.jpg en la carpeta de ISIC 2019.\n",
      "Advertencia: No se encontró la imagen ISIC_0060157.jpg en la carpeta de ISIC 2019.\n"
     ]
    },
    {
     "name": "stderr",
     "output_type": "stream",
     "text": [
      "ISIC 2019:  68%|██████▊   | 16822/24703 [00:38<00:20, 382.29it/s]"
     ]
    },
    {
     "name": "stdout",
     "output_type": "stream",
     "text": [
      "Advertencia: No se encontró la imagen ISIC_0060207.jpg en la carpeta de ISIC 2019.\n",
      "Advertencia: No se encontró la imagen ISIC_0060230.jpg en la carpeta de ISIC 2019.\n",
      "Advertencia: No se encontró la imagen ISIC_0060235.jpg en la carpeta de ISIC 2019.\n",
      "Advertencia: No se encontró la imagen ISIC_0060257.jpg en la carpeta de ISIC 2019.\n",
      "Advertencia: No se encontró la imagen ISIC_0060269.jpg en la carpeta de ISIC 2019.\n",
      "Advertencia: No se encontró la imagen ISIC_0060273.jpg en la carpeta de ISIC 2019.\n"
     ]
    },
    {
     "name": "stderr",
     "output_type": "stream",
     "text": [
      "ISIC 2019:  68%|██████▊   | 16907/24703 [00:38<00:19, 399.78it/s]"
     ]
    },
    {
     "name": "stdout",
     "output_type": "stream",
     "text": [
      "Advertencia: No se encontró la imagen ISIC_0060337.jpg en la carpeta de ISIC 2019.\n",
      "Advertencia: No se encontró la imagen ISIC_0060354.jpg en la carpeta de ISIC 2019.\n",
      "Advertencia: No se encontró la imagen ISIC_0060357.jpg en la carpeta de ISIC 2019.\n",
      "Advertencia: No se encontró la imagen ISIC_0060404.jpg en la carpeta de ISIC 2019.\n",
      "Advertencia: No se encontró la imagen ISIC_0060467.jpg en la carpeta de ISIC 2019.\n",
      "Advertencia: No se encontró la imagen ISIC_0060480.jpg en la carpeta de ISIC 2019.\n"
     ]
    },
    {
     "name": "stderr",
     "output_type": "stream",
     "text": [
      "ISIC 2019:  69%|██████▉   | 16994/24703 [00:38<00:19, 394.97it/s]"
     ]
    },
    {
     "name": "stdout",
     "output_type": "stream",
     "text": [
      "Advertencia: No se encontró la imagen ISIC_0060509.jpg en la carpeta de ISIC 2019.\n",
      "Advertencia: No se encontró la imagen ISIC_0060522.jpg en la carpeta de ISIC 2019.\n",
      "Advertencia: No se encontró la imagen ISIC_0060546.jpg en la carpeta de ISIC 2019.\n",
      "Advertencia: No se encontró la imagen ISIC_0060593.jpg en la carpeta de ISIC 2019.\n"
     ]
    },
    {
     "name": "stderr",
     "output_type": "stream",
     "text": [
      "ISIC 2019:  69%|██████▉   | 17073/24703 [00:38<00:20, 377.02it/s]"
     ]
    },
    {
     "name": "stdout",
     "output_type": "stream",
     "text": [
      "Advertencia: No se encontró la imagen ISIC_0060636.jpg en la carpeta de ISIC 2019.\n",
      "Advertencia: No se encontró la imagen ISIC_0060670.jpg en la carpeta de ISIC 2019.\n",
      "Advertencia: No se encontró la imagen ISIC_0060706.jpg en la carpeta de ISIC 2019.\n",
      "Advertencia: No se encontró la imagen ISIC_0060729.jpg en la carpeta de ISIC 2019.\n"
     ]
    },
    {
     "name": "stderr",
     "output_type": "stream",
     "text": [
      "ISIC 2019:  70%|██████▉   | 17188/24703 [00:39<00:20, 370.16it/s]"
     ]
    },
    {
     "name": "stdout",
     "output_type": "stream",
     "text": [
      "Advertencia: No se encontró la imagen ISIC_0060755.jpg en la carpeta de ISIC 2019.\n",
      "Advertencia: No se encontró la imagen ISIC_0060775.jpg en la carpeta de ISIC 2019.\n",
      "Advertencia: No se encontró la imagen ISIC_0060776.jpg en la carpeta de ISIC 2019.\n",
      "Advertencia: No se encontró la imagen ISIC_0060807.jpg en la carpeta de ISIC 2019.\n",
      "Advertencia: No se encontró la imagen ISIC_0060810.jpg en la carpeta de ISIC 2019.\n",
      "Advertencia: No se encontró la imagen ISIC_0060814.jpg en la carpeta de ISIC 2019.\n"
     ]
    },
    {
     "name": "stderr",
     "output_type": "stream",
     "text": [
      "ISIC 2019:  70%|██████▉   | 17265/24703 [00:39<00:20, 359.50it/s]"
     ]
    },
    {
     "name": "stdout",
     "output_type": "stream",
     "text": [
      "Advertencia: No se encontró la imagen ISIC_0060926.jpg en la carpeta de ISIC 2019.\n",
      "Advertencia: No se encontró la imagen ISIC_0060989.jpg en la carpeta de ISIC 2019.\n",
      "Advertencia: No se encontró la imagen ISIC_0061039.jpg en la carpeta de ISIC 2019.\n",
      "Advertencia: No se encontró la imagen ISIC_0061044.jpg en la carpeta de ISIC 2019.\n"
     ]
    },
    {
     "name": "stderr",
     "output_type": "stream",
     "text": [
      "ISIC 2019:  70%|███████   | 17338/24703 [00:39<00:20, 355.91it/s]"
     ]
    },
    {
     "name": "stdout",
     "output_type": "stream",
     "text": [
      "Advertencia: No se encontró la imagen ISIC_0061059.jpg en la carpeta de ISIC 2019.\n",
      "Advertencia: No se encontró la imagen ISIC_0061068.jpg en la carpeta de ISIC 2019.\n",
      "Advertencia: No se encontró la imagen ISIC_0061121.jpg en la carpeta de ISIC 2019.\n",
      "Advertencia: No se encontró la imagen ISIC_0061154.jpg en la carpeta de ISIC 2019.\n",
      "Advertencia: No se encontró la imagen ISIC_0061170.jpg en la carpeta de ISIC 2019.\n"
     ]
    },
    {
     "name": "stderr",
     "output_type": "stream",
     "text": [
      "ISIC 2019:  71%|███████   | 17449/24703 [00:40<00:21, 335.76it/s]"
     ]
    },
    {
     "name": "stdout",
     "output_type": "stream",
     "text": [
      "Advertencia: No se encontró la imagen ISIC_0061247.jpg en la carpeta de ISIC 2019.\n",
      "Advertencia: No se encontró la imagen ISIC_0061285.jpg en la carpeta de ISIC 2019.\n",
      "Advertencia: No se encontró la imagen ISIC_0061294.jpg en la carpeta de ISIC 2019.\n",
      "Advertencia: No se encontró la imagen ISIC_0061298.jpg en la carpeta de ISIC 2019.\n",
      "Advertencia: No se encontró la imagen ISIC_0061307.jpg en la carpeta de ISIC 2019.\n",
      "Advertencia: No se encontró la imagen ISIC_0061331.jpg en la carpeta de ISIC 2019.\n",
      "Advertencia: No se encontró la imagen ISIC_0061365.jpg en la carpeta de ISIC 2019.\n",
      "Advertencia: No se encontró la imagen ISIC_0061376.jpg en la carpeta de ISIC 2019.\n"
     ]
    },
    {
     "name": "stderr",
     "output_type": "stream",
     "text": [
      "ISIC 2019:  71%|███████   | 17529/24703 [00:40<00:19, 363.52it/s]"
     ]
    },
    {
     "name": "stdout",
     "output_type": "stream",
     "text": [
      "Advertencia: No se encontró la imagen ISIC_0061385.jpg en la carpeta de ISIC 2019.\n",
      "Advertencia: No se encontró la imagen ISIC_0061410.jpg en la carpeta de ISIC 2019.\n",
      "Advertencia: No se encontró la imagen ISIC_0061464.jpg en la carpeta de ISIC 2019.\n",
      "Advertencia: No se encontró la imagen ISIC_0061499.jpg en la carpeta de ISIC 2019.\n"
     ]
    },
    {
     "name": "stderr",
     "output_type": "stream",
     "text": [
      "ISIC 2019:  71%|███████▏  | 17638/24703 [00:40<00:22, 318.24it/s]"
     ]
    },
    {
     "name": "stdout",
     "output_type": "stream",
     "text": [
      "Advertencia: No se encontró la imagen ISIC_0061582.jpg en la carpeta de ISIC 2019.\n",
      "Advertencia: No se encontró la imagen ISIC_0061588.jpg en la carpeta de ISIC 2019.\n",
      "Advertencia: No se encontró la imagen ISIC_0061593.jpg en la carpeta de ISIC 2019.\n",
      "Advertencia: No se encontró la imagen ISIC_0061667.jpg en la carpeta de ISIC 2019.\n",
      "Advertencia: No se encontró la imagen ISIC_0061687.jpg en la carpeta de ISIC 2019.\n"
     ]
    },
    {
     "name": "stderr",
     "output_type": "stream",
     "text": [
      "ISIC 2019:  72%|███████▏  | 17720/24703 [00:40<00:19, 356.76it/s]"
     ]
    },
    {
     "name": "stdout",
     "output_type": "stream",
     "text": [
      "Advertencia: No se encontró la imagen ISIC_0061691.jpg en la carpeta de ISIC 2019.\n",
      "Advertencia: No se encontró la imagen ISIC_0061730.jpg en la carpeta de ISIC 2019.\n",
      "Advertencia: No se encontró la imagen ISIC_0061767.jpg en la carpeta de ISIC 2019.\n",
      "Advertencia: No se encontró la imagen ISIC_0061774.jpg en la carpeta de ISIC 2019.\n",
      "Advertencia: No se encontró la imagen ISIC_0061787.jpg en la carpeta de ISIC 2019.\n",
      "Advertencia: No se encontró la imagen ISIC_0061814.jpg en la carpeta de ISIC 2019.\n"
     ]
    },
    {
     "name": "stderr",
     "output_type": "stream",
     "text": [
      "ISIC 2019:  72%|███████▏  | 17794/24703 [00:41<00:20, 338.24it/s]"
     ]
    },
    {
     "name": "stdout",
     "output_type": "stream",
     "text": [
      "Advertencia: No se encontró la imagen ISIC_0061836.jpg en la carpeta de ISIC 2019.\n"
     ]
    },
    {
     "name": "stderr",
     "output_type": "stream",
     "text": [
      "ISIC 2019:  72%|███████▏  | 17874/24703 [00:41<00:19, 345.61it/s]"
     ]
    },
    {
     "name": "stdout",
     "output_type": "stream",
     "text": [
      "Advertencia: No se encontró la imagen ISIC_0061947.jpg en la carpeta de ISIC 2019.\n",
      "Advertencia: No se encontró la imagen ISIC_0061967.jpg en la carpeta de ISIC 2019.\n",
      "Advertencia: No se encontró la imagen ISIC_0061968.jpg en la carpeta de ISIC 2019.\n",
      "Advertencia: No se encontró la imagen ISIC_0062024.jpg en la carpeta de ISIC 2019.\n",
      "Advertencia: No se encontró la imagen ISIC_0062036.jpg en la carpeta de ISIC 2019.\n",
      "Advertencia: No se encontró la imagen ISIC_0062043.jpg en la carpeta de ISIC 2019.\n"
     ]
    },
    {
     "name": "stderr",
     "output_type": "stream",
     "text": [
      "ISIC 2019:  73%|███████▎  | 17956/24703 [00:41<00:18, 367.94it/s]"
     ]
    },
    {
     "name": "stdout",
     "output_type": "stream",
     "text": [
      "Advertencia: No se encontró la imagen ISIC_0062104.jpg en la carpeta de ISIC 2019.\n",
      "Advertencia: No se encontró la imagen ISIC_0062116.jpg en la carpeta de ISIC 2019.\n",
      "Advertencia: No se encontró la imagen ISIC_0062123.jpg en la carpeta de ISIC 2019.\n",
      "Advertencia: No se encontró la imagen ISIC_0062159.jpg en la carpeta de ISIC 2019.\n",
      "Advertencia: No se encontró la imagen ISIC_0062184.jpg en la carpeta de ISIC 2019.\n",
      "Advertencia: No se encontró la imagen ISIC_0062212.jpg en la carpeta de ISIC 2019.\n"
     ]
    },
    {
     "name": "stderr",
     "output_type": "stream",
     "text": [
      "ISIC 2019:  73%|███████▎  | 18072/24703 [00:41<00:18, 365.67it/s]"
     ]
    },
    {
     "name": "stdout",
     "output_type": "stream",
     "text": [
      "Advertencia: No se encontró la imagen ISIC_0062238.jpg en la carpeta de ISIC 2019.\n",
      "Advertencia: No se encontró la imagen ISIC_0062245.jpg en la carpeta de ISIC 2019.\n",
      "Advertencia: No se encontró la imagen ISIC_0062255.jpg en la carpeta de ISIC 2019.\n",
      "Advertencia: No se encontró la imagen ISIC_0062272.jpg en la carpeta de ISIC 2019.\n",
      "Advertencia: No se encontró la imagen ISIC_0062305.jpg en la carpeta de ISIC 2019.\n",
      "Advertencia: No se encontró la imagen ISIC_0062345.jpg en la carpeta de ISIC 2019.\n",
      "Advertencia: No se encontró la imagen ISIC_0062346.jpg en la carpeta de ISIC 2019.\n",
      "Advertencia: No se encontró la imagen ISIC_0062351.jpg en la carpeta de ISIC 2019.\n"
     ]
    },
    {
     "name": "stderr",
     "output_type": "stream",
     "text": [
      "ISIC 2019:  73%|███████▎  | 18146/24703 [00:42<00:18, 345.52it/s]"
     ]
    },
    {
     "name": "stdout",
     "output_type": "stream",
     "text": [
      "Advertencia: No se encontró la imagen ISIC_0062408.jpg en la carpeta de ISIC 2019.\n",
      "Advertencia: No se encontró la imagen ISIC_0062426.jpg en la carpeta de ISIC 2019.\n"
     ]
    },
    {
     "name": "stderr",
     "output_type": "stream",
     "text": [
      "ISIC 2019:  74%|███████▍  | 18227/24703 [00:42<00:17, 360.83it/s]"
     ]
    },
    {
     "name": "stdout",
     "output_type": "stream",
     "text": [
      "Advertencia: No se encontró la imagen ISIC_0062508.jpg en la carpeta de ISIC 2019.\n",
      "Advertencia: No se encontró la imagen ISIC_0062586.jpg en la carpeta de ISIC 2019.\n",
      "Advertencia: No se encontró la imagen ISIC_0062593.jpg en la carpeta de ISIC 2019.\n",
      "Advertencia: No se encontró la imagen ISIC_0062608.jpg en la carpeta de ISIC 2019.\n",
      "Advertencia: No se encontró la imagen ISIC_0062609.jpg en la carpeta de ISIC 2019.\n",
      "Advertencia: No se encontró la imagen ISIC_0062611.jpg en la carpeta de ISIC 2019.\n",
      "Advertencia: No se encontró la imagen ISIC_0062622.jpg en la carpeta de ISIC 2019.\n",
      "Advertencia: No se encontró la imagen ISIC_0062641.jpg en la carpeta de ISIC 2019.\n",
      "Advertencia: No se encontró la imagen ISIC_0062646.jpg en la carpeta de ISIC 2019.\n"
     ]
    },
    {
     "name": "stderr",
     "output_type": "stream",
     "text": [
      "ISIC 2019:  74%|███████▍  | 18305/24703 [00:42<00:17, 369.99it/s]"
     ]
    },
    {
     "name": "stdout",
     "output_type": "stream",
     "text": [
      "Advertencia: No se encontró la imagen ISIC_0062692.jpg en la carpeta de ISIC 2019.\n",
      "Advertencia: No se encontró la imagen ISIC_0062706.jpg en la carpeta de ISIC 2019.\n",
      "Advertencia: No se encontró la imagen ISIC_0062738.jpg en la carpeta de ISIC 2019.\n",
      "Advertencia: No se encontró la imagen ISIC_0062739.jpg en la carpeta de ISIC 2019.\n",
      "Advertencia: No se encontró la imagen ISIC_0062741.jpg en la carpeta de ISIC 2019.\n",
      "Advertencia: No se encontró la imagen ISIC_0062742.jpg en la carpeta de ISIC 2019.\n",
      "Advertencia: No se encontró la imagen ISIC_0062743.jpg en la carpeta de ISIC 2019.\n",
      "Advertencia: No se encontró la imagen ISIC_0062766.jpg en la carpeta de ISIC 2019.\n"
     ]
    },
    {
     "name": "stderr",
     "output_type": "stream",
     "text": [
      "ISIC 2019:  74%|███████▍  | 18379/24703 [00:42<00:19, 320.17it/s]"
     ]
    },
    {
     "name": "stdout",
     "output_type": "stream",
     "text": [
      "Advertencia: No se encontró la imagen ISIC_0062814.jpg en la carpeta de ISIC 2019.\n",
      "Advertencia: No se encontró la imagen ISIC_0062830.jpg en la carpeta de ISIC 2019.\n",
      "Advertencia: No se encontró la imagen ISIC_0062877.jpg en la carpeta de ISIC 2019.\n",
      "Advertencia: No se encontró la imagen ISIC_0062878.jpg en la carpeta de ISIC 2019.\n"
     ]
    },
    {
     "name": "stderr",
     "output_type": "stream",
     "text": [
      "ISIC 2019:  75%|███████▍  | 18464/24703 [00:42<00:16, 368.04it/s]"
     ]
    },
    {
     "name": "stdout",
     "output_type": "stream",
     "text": [
      "Advertencia: No se encontró la imagen ISIC_0062940.jpg en la carpeta de ISIC 2019.\n",
      "Advertencia: No se encontró la imagen ISIC_0062953.jpg en la carpeta de ISIC 2019.\n",
      "Advertencia: No se encontró la imagen ISIC_0062971.jpg en la carpeta de ISIC 2019.\n",
      "Advertencia: No se encontró la imagen ISIC_0063019.jpg en la carpeta de ISIC 2019.\n",
      "Advertencia: No se encontró la imagen ISIC_0063037.jpg en la carpeta de ISIC 2019.\n",
      "Advertencia: No se encontró la imagen ISIC_0063038.jpg en la carpeta de ISIC 2019.\n",
      "Advertencia: No se encontró la imagen ISIC_0063045.jpg en la carpeta de ISIC 2019.\n",
      "Advertencia: No se encontró la imagen ISIC_0063052.jpg en la carpeta de ISIC 2019.\n",
      "Advertencia: No se encontró la imagen ISIC_0063068.jpg en la carpeta de ISIC 2019.\n"
     ]
    },
    {
     "name": "stderr",
     "output_type": "stream",
     "text": [
      "ISIC 2019:  75%|███████▌  | 18583/24703 [00:43<00:16, 367.50it/s]"
     ]
    },
    {
     "name": "stdout",
     "output_type": "stream",
     "text": [
      "Advertencia: No se encontró la imagen ISIC_0063100.jpg en la carpeta de ISIC 2019.\n",
      "Advertencia: No se encontró la imagen ISIC_0063107.jpg en la carpeta de ISIC 2019.\n",
      "Advertencia: No se encontró la imagen ISIC_0063122.jpg en la carpeta de ISIC 2019.\n",
      "Advertencia: No se encontró la imagen ISIC_0063175.jpg en la carpeta de ISIC 2019.\n",
      "Advertencia: No se encontró la imagen ISIC_0063178.jpg en la carpeta de ISIC 2019.\n",
      "Advertencia: No se encontró la imagen ISIC_0063187.jpg en la carpeta de ISIC 2019.\n",
      "Advertencia: No se encontró la imagen ISIC_0063210.jpg en la carpeta de ISIC 2019.\n"
     ]
    },
    {
     "name": "stderr",
     "output_type": "stream",
     "text": [
      "ISIC 2019:  76%|███████▌  | 18658/24703 [00:43<00:16, 358.64it/s]"
     ]
    },
    {
     "name": "stdout",
     "output_type": "stream",
     "text": [
      "Advertencia: No se encontró la imagen ISIC_0063250.jpg en la carpeta de ISIC 2019.\n",
      "Advertencia: No se encontró la imagen ISIC_0063261.jpg en la carpeta de ISIC 2019.\n",
      "Advertencia: No se encontró la imagen ISIC_0063287.jpg en la carpeta de ISIC 2019.\n",
      "Advertencia: No se encontró la imagen ISIC_0063293.jpg en la carpeta de ISIC 2019.\n",
      "Advertencia: No se encontró la imagen ISIC_0063320.jpg en la carpeta de ISIC 2019.\n",
      "Advertencia: No se encontró la imagen ISIC_0063322.jpg en la carpeta de ISIC 2019.\n",
      "Advertencia: No se encontró la imagen ISIC_0063331.jpg en la carpeta de ISIC 2019.\n",
      "Advertencia: No se encontró la imagen ISIC_0063335.jpg en la carpeta de ISIC 2019.\n",
      "Advertencia: No se encontró la imagen ISIC_0063359.jpg en la carpeta de ISIC 2019.\n",
      "Advertencia: No se encontró la imagen ISIC_0063361.jpg en la carpeta de ISIC 2019.\n"
     ]
    },
    {
     "name": "stderr",
     "output_type": "stream",
     "text": [
      "ISIC 2019:  76%|███████▌  | 18767/24703 [00:43<00:16, 349.48it/s]"
     ]
    },
    {
     "name": "stdout",
     "output_type": "stream",
     "text": [
      "Advertencia: No se encontró la imagen ISIC_0063435.jpg en la carpeta de ISIC 2019.\n",
      "Advertencia: No se encontró la imagen ISIC_0063442.jpg en la carpeta de ISIC 2019.\n",
      "Advertencia: No se encontró la imagen ISIC_0063536.jpg en la carpeta de ISIC 2019.\n"
     ]
    },
    {
     "name": "stderr",
     "output_type": "stream",
     "text": [
      "ISIC 2019:  76%|███████▋  | 18839/24703 [00:43<00:17, 331.07it/s]"
     ]
    },
    {
     "name": "stdout",
     "output_type": "stream",
     "text": [
      "Advertencia: No se encontró la imagen ISIC_0063573.jpg en la carpeta de ISIC 2019.\n",
      "Advertencia: No se encontró la imagen ISIC_0063577.jpg en la carpeta de ISIC 2019.\n",
      "Advertencia: No se encontró la imagen ISIC_0063588.jpg en la carpeta de ISIC 2019.\n",
      "Advertencia: No se encontró la imagen ISIC_0063674.jpg en la carpeta de ISIC 2019.\n"
     ]
    },
    {
     "name": "stderr",
     "output_type": "stream",
     "text": [
      "ISIC 2019:  77%|███████▋  | 18952/24703 [00:44<00:16, 349.25it/s]"
     ]
    },
    {
     "name": "stdout",
     "output_type": "stream",
     "text": [
      "Advertencia: No se encontró la imagen ISIC_0063712.jpg en la carpeta de ISIC 2019.\n",
      "Advertencia: No se encontró la imagen ISIC_0063778.jpg en la carpeta de ISIC 2019.\n",
      "Advertencia: No se encontró la imagen ISIC_0063798.jpg en la carpeta de ISIC 2019.\n"
     ]
    },
    {
     "name": "stderr",
     "output_type": "stream",
     "text": [
      "ISIC 2019:  77%|███████▋  | 19022/24703 [00:44<00:19, 284.61it/s]"
     ]
    },
    {
     "name": "stdout",
     "output_type": "stream",
     "text": [
      "Advertencia: No se encontró la imagen ISIC_0063878.jpg en la carpeta de ISIC 2019.\n",
      "Advertencia: No se encontró la imagen ISIC_0063883.jpg en la carpeta de ISIC 2019.\n",
      "Advertencia: No se encontró la imagen ISIC_0063890.jpg en la carpeta de ISIC 2019.\n",
      "Advertencia: No se encontró la imagen ISIC_0063927.jpg en la carpeta de ISIC 2019.\n",
      "Advertencia: No se encontró la imagen ISIC_0063956.jpg en la carpeta de ISIC 2019.\n"
     ]
    },
    {
     "name": "stderr",
     "output_type": "stream",
     "text": [
      "ISIC 2019:  77%|███████▋  | 19143/24703 [00:44<00:15, 357.71it/s]"
     ]
    },
    {
     "name": "stdout",
     "output_type": "stream",
     "text": [
      "Advertencia: No se encontró la imagen ISIC_0064022.jpg en la carpeta de ISIC 2019.\n",
      "Advertencia: No se encontró la imagen ISIC_0064063.jpg en la carpeta de ISIC 2019.\n",
      "Advertencia: No se encontró la imagen ISIC_0064067.jpg en la carpeta de ISIC 2019.\n",
      "Advertencia: No se encontró la imagen ISIC_0064151.jpg en la carpeta de ISIC 2019.\n"
     ]
    },
    {
     "name": "stderr",
     "output_type": "stream",
     "text": [
      "ISIC 2019:  78%|███████▊  | 19221/24703 [00:45<00:15, 364.25it/s]"
     ]
    },
    {
     "name": "stdout",
     "output_type": "stream",
     "text": [
      "Advertencia: No se encontró la imagen ISIC_0064196.jpg en la carpeta de ISIC 2019.\n",
      "Advertencia: No se encontró la imagen ISIC_0064211.jpg en la carpeta de ISIC 2019.\n",
      "Advertencia: No se encontró la imagen ISIC_0064222.jpg en la carpeta de ISIC 2019.\n",
      "Advertencia: No se encontró la imagen ISIC_0064231.jpg en la carpeta de ISIC 2019.\n",
      "Advertencia: No se encontró la imagen ISIC_0064262.jpg en la carpeta de ISIC 2019.\n"
     ]
    },
    {
     "name": "stderr",
     "output_type": "stream",
     "text": [
      "ISIC 2019:  78%|███████▊  | 19295/24703 [00:45<00:15, 343.08it/s]"
     ]
    },
    {
     "name": "stdout",
     "output_type": "stream",
     "text": [
      "Advertencia: No se encontró la imagen ISIC_0064322.jpg en la carpeta de ISIC 2019.\n",
      "Advertencia: No se encontró la imagen ISIC_0064330.jpg en la carpeta de ISIC 2019.\n"
     ]
    },
    {
     "name": "stderr",
     "output_type": "stream",
     "text": [
      "ISIC 2019:  79%|███████▊  | 19399/24703 [00:45<00:17, 302.69it/s]"
     ]
    },
    {
     "name": "stdout",
     "output_type": "stream",
     "text": [
      "Advertencia: No se encontró la imagen ISIC_0064490.jpg en la carpeta de ISIC 2019.\n",
      "Advertencia: No se encontró la imagen ISIC_0064524.jpg en la carpeta de ISIC 2019.\n",
      "Advertencia: No se encontró la imagen ISIC_0064553.jpg en la carpeta de ISIC 2019.\n",
      "Advertencia: No se encontró la imagen ISIC_0064583.jpg en la carpeta de ISIC 2019.\n",
      "Advertencia: No se encontró la imagen ISIC_0064587.jpg en la carpeta de ISIC 2019.\n"
     ]
    },
    {
     "name": "stderr",
     "output_type": "stream",
     "text": [
      "ISIC 2019:  79%|███████▉  | 19461/24703 [00:45<00:18, 289.82it/s]"
     ]
    },
    {
     "name": "stdout",
     "output_type": "stream",
     "text": [
      "Advertencia: No se encontró la imagen ISIC_0064617.jpg en la carpeta de ISIC 2019.\n",
      "Advertencia: No se encontró la imagen ISIC_0064624.jpg en la carpeta de ISIC 2019.\n",
      "Advertencia: No se encontró la imagen ISIC_0064638.jpg en la carpeta de ISIC 2019.\n",
      "Advertencia: No se encontró la imagen ISIC_0064690.jpg en la carpeta de ISIC 2019.\n"
     ]
    },
    {
     "name": "stderr",
     "output_type": "stream",
     "text": [
      "ISIC 2019:  79%|███████▉  | 19576/24703 [00:46<00:14, 347.47it/s]"
     ]
    },
    {
     "name": "stdout",
     "output_type": "stream",
     "text": [
      "Advertencia: No se encontró la imagen ISIC_0064735.jpg en la carpeta de ISIC 2019.\n",
      "Advertencia: No se encontró la imagen ISIC_0064789.jpg en la carpeta de ISIC 2019.\n",
      "Advertencia: No se encontró la imagen ISIC_0064796.jpg en la carpeta de ISIC 2019.\n",
      "Advertencia: No se encontró la imagen ISIC_0064811.jpg en la carpeta de ISIC 2019.\n"
     ]
    },
    {
     "name": "stderr",
     "output_type": "stream",
     "text": [
      "ISIC 2019:  80%|███████▉  | 19681/24703 [00:46<00:16, 300.13it/s]"
     ]
    },
    {
     "name": "stdout",
     "output_type": "stream",
     "text": [
      "Advertencia: No se encontró la imagen ISIC_0064951.jpg en la carpeta de ISIC 2019.\n",
      "Advertencia: No se encontró la imagen ISIC_0064959.jpg en la carpeta de ISIC 2019.\n",
      "Advertencia: No se encontró la imagen ISIC_0064969.jpg en la carpeta de ISIC 2019.\n",
      "Advertencia: No se encontró la imagen ISIC_0065052.jpg en la carpeta de ISIC 2019.\n"
     ]
    },
    {
     "name": "stderr",
     "output_type": "stream",
     "text": [
      "ISIC 2019:  80%|███████▉  | 19757/24703 [00:46<00:14, 332.55it/s]"
     ]
    },
    {
     "name": "stdout",
     "output_type": "stream",
     "text": [
      "Advertencia: No se encontró la imagen ISIC_0065070.jpg en la carpeta de ISIC 2019.\n",
      "Advertencia: No se encontró la imagen ISIC_0065078.jpg en la carpeta de ISIC 2019.\n",
      "Advertencia: No se encontró la imagen ISIC_0065095.jpg en la carpeta de ISIC 2019.\n",
      "Advertencia: No se encontró la imagen ISIC_0065118.jpg en la carpeta de ISIC 2019.\n",
      "Advertencia: No se encontró la imagen ISIC_0065120.jpg en la carpeta de ISIC 2019.\n",
      "Advertencia: No se encontró la imagen ISIC_0065125.jpg en la carpeta de ISIC 2019.\n",
      "Advertencia: No se encontró la imagen ISIC_0065150.jpg en la carpeta de ISIC 2019.\n",
      "Advertencia: No se encontró la imagen ISIC_0065169.jpg en la carpeta de ISIC 2019.\n"
     ]
    },
    {
     "name": "stderr",
     "output_type": "stream",
     "text": [
      "ISIC 2019:  80%|████████  | 19792/24703 [00:46<00:16, 301.99it/s]"
     ]
    },
    {
     "name": "stdout",
     "output_type": "stream",
     "text": [
      "Advertencia: No se encontró la imagen ISIC_0065203.jpg en la carpeta de ISIC 2019.\n",
      "Advertencia: No se encontró la imagen ISIC_0065276.jpg en la carpeta de ISIC 2019.\n"
     ]
    },
    {
     "name": "stderr",
     "output_type": "stream",
     "text": [
      "ISIC 2019:  81%|████████  | 19898/24703 [00:47<00:14, 321.37it/s]"
     ]
    },
    {
     "name": "stdout",
     "output_type": "stream",
     "text": [
      "Advertencia: No se encontró la imagen ISIC_0065301.jpg en la carpeta de ISIC 2019.\n",
      "Advertencia: No se encontró la imagen ISIC_0065304.jpg en la carpeta de ISIC 2019.\n",
      "Advertencia: No se encontró la imagen ISIC_0065306.jpg en la carpeta de ISIC 2019.\n",
      "Advertencia: No se encontró la imagen ISIC_0065312.jpg en la carpeta de ISIC 2019.\n",
      "Advertencia: No se encontró la imagen ISIC_0065329.jpg en la carpeta de ISIC 2019.\n"
     ]
    },
    {
     "name": "stderr",
     "output_type": "stream",
     "text": [
      "ISIC 2019:  81%|████████  | 19967/24703 [00:47<00:14, 322.17it/s]"
     ]
    },
    {
     "name": "stdout",
     "output_type": "stream",
     "text": [
      "Advertencia: No se encontró la imagen ISIC_0065404.jpg en la carpeta de ISIC 2019.\n",
      "Advertencia: No se encontró la imagen ISIC_0065413.jpg en la carpeta de ISIC 2019.\n",
      "Advertencia: No se encontró la imagen ISIC_0065416.jpg en la carpeta de ISIC 2019.\n",
      "Advertencia: No se encontró la imagen ISIC_0065450.jpg en la carpeta de ISIC 2019.\n",
      "Advertencia: No se encontró la imagen ISIC_0065470.jpg en la carpeta de ISIC 2019.\n",
      "Advertencia: No se encontró la imagen ISIC_0065476.jpg en la carpeta de ISIC 2019.\n",
      "Advertencia: No se encontró la imagen ISIC_0065495.jpg en la carpeta de ISIC 2019.\n"
     ]
    },
    {
     "name": "stderr",
     "output_type": "stream",
     "text": [
      "ISIC 2019:  81%|████████  | 20040/24703 [00:47<00:13, 344.42it/s]"
     ]
    },
    {
     "name": "stdout",
     "output_type": "stream",
     "text": [
      "Advertencia: No se encontró la imagen ISIC_0065538.jpg en la carpeta de ISIC 2019.\n",
      "Advertencia: No se encontró la imagen ISIC_0065547.jpg en la carpeta de ISIC 2019.\n",
      "Advertencia: No se encontró la imagen ISIC_0065552.jpg en la carpeta de ISIC 2019.\n",
      "Advertencia: No se encontró la imagen ISIC_0065584.jpg en la carpeta de ISIC 2019.\n",
      "Advertencia: No se encontró la imagen ISIC_0065611.jpg en la carpeta de ISIC 2019.\n",
      "Advertencia: No se encontró la imagen ISIC_0065612.jpg en la carpeta de ISIC 2019.\n",
      "Advertencia: No se encontró la imagen ISIC_0065628.jpg en la carpeta de ISIC 2019.\n",
      "Advertencia: No se encontró la imagen ISIC_0065633.jpg en la carpeta de ISIC 2019.\n",
      "Advertencia: No se encontró la imagen ISIC_0065661.jpg en la carpeta de ISIC 2019.\n"
     ]
    },
    {
     "name": "stderr",
     "output_type": "stream",
     "text": [
      "ISIC 2019:  82%|████████▏ | 20152/24703 [00:48<00:14, 324.41it/s]"
     ]
    },
    {
     "name": "stdout",
     "output_type": "stream",
     "text": [
      "Advertencia: No se encontró la imagen ISIC_0065724.jpg en la carpeta de ISIC 2019.\n",
      "Advertencia: No se encontró la imagen ISIC_0065741.jpg en la carpeta de ISIC 2019.\n",
      "Advertencia: No se encontró la imagen ISIC_0065758.jpg en la carpeta de ISIC 2019.\n",
      "Advertencia: No se encontró la imagen ISIC_0065811.jpg en la carpeta de ISIC 2019.\n"
     ]
    },
    {
     "name": "stderr",
     "output_type": "stream",
     "text": [
      "ISIC 2019:  82%|████████▏ | 20223/24703 [00:48<00:13, 337.10it/s]"
     ]
    },
    {
     "name": "stdout",
     "output_type": "stream",
     "text": [
      "Advertencia: No se encontró la imagen ISIC_0065832.jpg en la carpeta de ISIC 2019.\n",
      "Advertencia: No se encontró la imagen ISIC_0065861.jpg en la carpeta de ISIC 2019.\n",
      "Advertencia: No se encontró la imagen ISIC_0065880.jpg en la carpeta de ISIC 2019.\n",
      "Advertencia: No se encontró la imagen ISIC_0065938.jpg en la carpeta de ISIC 2019.\n",
      "Advertencia: No se encontró la imagen ISIC_0065952.jpg en la carpeta de ISIC 2019.\n"
     ]
    },
    {
     "name": "stderr",
     "output_type": "stream",
     "text": [
      "ISIC 2019:  82%|████████▏ | 20299/24703 [00:48<00:12, 353.62it/s]"
     ]
    },
    {
     "name": "stdout",
     "output_type": "stream",
     "text": [
      "Advertencia: No se encontró la imagen ISIC_0065955.jpg en la carpeta de ISIC 2019.\n",
      "Advertencia: No se encontró la imagen ISIC_0065960.jpg en la carpeta de ISIC 2019.\n",
      "Advertencia: No se encontró la imagen ISIC_0065992.jpg en la carpeta de ISIC 2019.\n",
      "Advertencia: No se encontró la imagen ISIC_0066006.jpg en la carpeta de ISIC 2019.\n",
      "Advertencia: No se encontró la imagen ISIC_0066056.jpg en la carpeta de ISIC 2019.\n",
      "Advertencia: No se encontró la imagen ISIC_0066082.jpg en la carpeta de ISIC 2019.\n"
     ]
    },
    {
     "name": "stderr",
     "output_type": "stream",
     "text": [
      "ISIC 2019:  83%|████████▎ | 20409/24703 [00:48<00:12, 340.64it/s]"
     ]
    },
    {
     "name": "stdout",
     "output_type": "stream",
     "text": [
      "Advertencia: No se encontró la imagen ISIC_0066123.jpg en la carpeta de ISIC 2019.\n",
      "Advertencia: No se encontró la imagen ISIC_0066142.jpg en la carpeta de ISIC 2019.\n",
      "Advertencia: No se encontró la imagen ISIC_0066180.jpg en la carpeta de ISIC 2019.\n",
      "Advertencia: No se encontró la imagen ISIC_0066220.jpg en la carpeta de ISIC 2019.\n"
     ]
    },
    {
     "name": "stderr",
     "output_type": "stream",
     "text": [
      "ISIC 2019:  83%|████████▎ | 20484/24703 [00:49<00:13, 321.51it/s]"
     ]
    },
    {
     "name": "stdout",
     "output_type": "stream",
     "text": [
      "Advertencia: No se encontró la imagen ISIC_0066272.jpg en la carpeta de ISIC 2019.\n",
      "Advertencia: No se encontró la imagen ISIC_0066278.jpg en la carpeta de ISIC 2019.\n",
      "Advertencia: No se encontró la imagen ISIC_0066296.jpg en la carpeta de ISIC 2019.\n",
      "Advertencia: No se encontró la imagen ISIC_0066306.jpg en la carpeta de ISIC 2019.\n",
      "Advertencia: No se encontró la imagen ISIC_0066315.jpg en la carpeta de ISIC 2019.\n",
      "Advertencia: No se encontró la imagen ISIC_0066360.jpg en la carpeta de ISIC 2019.\n",
      "Advertencia: No se encontró la imagen ISIC_0066370.jpg en la carpeta de ISIC 2019.\n",
      "Advertencia: No se encontró la imagen ISIC_0066374.jpg en la carpeta de ISIC 2019.\n"
     ]
    },
    {
     "name": "stderr",
     "output_type": "stream",
     "text": [
      "ISIC 2019:  83%|████████▎ | 20557/24703 [00:49<00:12, 336.67it/s]"
     ]
    },
    {
     "name": "stdout",
     "output_type": "stream",
     "text": [
      "Advertencia: No se encontró la imagen ISIC_0066391.jpg en la carpeta de ISIC 2019.\n",
      "Advertencia: No se encontró la imagen ISIC_0066395.jpg en la carpeta de ISIC 2019.\n",
      "Advertencia: No se encontró la imagen ISIC_0066452.jpg en la carpeta de ISIC 2019.\n",
      "Advertencia: No se encontró la imagen ISIC_0066466.jpg en la carpeta de ISIC 2019.\n",
      "Advertencia: No se encontró la imagen ISIC_0066507.jpg en la carpeta de ISIC 2019.\n",
      "Advertencia: No se encontró la imagen ISIC_0066509.jpg en la carpeta de ISIC 2019.\n"
     ]
    },
    {
     "name": "stderr",
     "output_type": "stream",
     "text": [
      "ISIC 2019:  84%|████████▎ | 20676/24703 [00:49<00:11, 358.20it/s]"
     ]
    },
    {
     "name": "stdout",
     "output_type": "stream",
     "text": [
      "Advertencia: No se encontró la imagen ISIC_0066546.jpg en la carpeta de ISIC 2019.\n",
      "Advertencia: No se encontró la imagen ISIC_0066556.jpg en la carpeta de ISIC 2019.\n",
      "Advertencia: No se encontró la imagen ISIC_0066563.jpg en la carpeta de ISIC 2019.\n",
      "Advertencia: No se encontró la imagen ISIC_0066586.jpg en la carpeta de ISIC 2019.\n",
      "Advertencia: No se encontró la imagen ISIC_0066595.jpg en la carpeta de ISIC 2019.\n"
     ]
    },
    {
     "name": "stderr",
     "output_type": "stream",
     "text": [
      "ISIC 2019:  84%|████████▍ | 20754/24703 [00:49<00:13, 301.29it/s]"
     ]
    },
    {
     "name": "stdout",
     "output_type": "stream",
     "text": [
      "Advertencia: No se encontró la imagen ISIC_0066684.jpg en la carpeta de ISIC 2019.\n",
      "Advertencia: No se encontró la imagen ISIC_0066699.jpg en la carpeta de ISIC 2019.\n",
      "Advertencia: No se encontró la imagen ISIC_0066762.jpg en la carpeta de ISIC 2019.\n",
      "Advertencia: No se encontró la imagen ISIC_0066785.jpg en la carpeta de ISIC 2019.\n",
      "Advertencia: No se encontró la imagen ISIC_0066786.jpg en la carpeta de ISIC 2019.\n"
     ]
    },
    {
     "name": "stderr",
     "output_type": "stream",
     "text": [
      "ISIC 2019:  84%|████████▍ | 20829/24703 [00:50<00:11, 329.35it/s]"
     ]
    },
    {
     "name": "stdout",
     "output_type": "stream",
     "text": [
      "Advertencia: No se encontró la imagen ISIC_0066819.jpg en la carpeta de ISIC 2019.\n",
      "Advertencia: No se encontró la imagen ISIC_0066825.jpg en la carpeta de ISIC 2019.\n",
      "Advertencia: No se encontró la imagen ISIC_0066858.jpg en la carpeta de ISIC 2019.\n",
      "Advertencia: No se encontró la imagen ISIC_0066861.jpg en la carpeta de ISIC 2019.\n",
      "Advertencia: No se encontró la imagen ISIC_0066864.jpg en la carpeta de ISIC 2019.\n",
      "Advertencia: No se encontró la imagen ISIC_0066885.jpg en la carpeta de ISIC 2019.\n",
      "Advertencia: No se encontró la imagen ISIC_0066892.jpg en la carpeta de ISIC 2019.\n",
      "Advertencia: No se encontró la imagen ISIC_0066895.jpg en la carpeta de ISIC 2019.\n",
      "Advertencia: No se encontró la imagen ISIC_0066913.jpg en la carpeta de ISIC 2019.\n"
     ]
    },
    {
     "name": "stderr",
     "output_type": "stream",
     "text": [
      "ISIC 2019:  85%|████████▍ | 20904/24703 [00:50<00:11, 329.34it/s]"
     ]
    },
    {
     "name": "stdout",
     "output_type": "stream",
     "text": [
      "Advertencia: No se encontró la imagen ISIC_0066973.jpg en la carpeta de ISIC 2019.\n",
      "Advertencia: No se encontró la imagen ISIC_0066988.jpg en la carpeta de ISIC 2019.\n",
      "Advertencia: No se encontró la imagen ISIC_0066990.jpg en la carpeta de ISIC 2019.\n",
      "Advertencia: No se encontró la imagen ISIC_0067061.jpg en la carpeta de ISIC 2019.\n",
      "Advertencia: No se encontró la imagen ISIC_0067078.jpg en la carpeta de ISIC 2019.\n",
      "Advertencia: No se encontró la imagen ISIC_0067100.jpg en la carpeta de ISIC 2019.\n",
      "Advertencia: No se encontró la imagen ISIC_0067113.jpg en la carpeta de ISIC 2019.\n"
     ]
    },
    {
     "name": "stderr",
     "output_type": "stream",
     "text": [
      "ISIC 2019:  85%|████████▌ | 21021/24703 [00:50<00:11, 325.01it/s]"
     ]
    },
    {
     "name": "stdout",
     "output_type": "stream",
     "text": [
      "Advertencia: No se encontró la imagen ISIC_0067150.jpg en la carpeta de ISIC 2019.\n",
      "Advertencia: No se encontró la imagen ISIC_0067153.jpg en la carpeta de ISIC 2019.\n",
      "Advertencia: No se encontró la imagen ISIC_0067177.jpg en la carpeta de ISIC 2019.\n",
      "Advertencia: No se encontró la imagen ISIC_0067180.jpg en la carpeta de ISIC 2019.\n",
      "Advertencia: No se encontró la imagen ISIC_0067204.jpg en la carpeta de ISIC 2019.\n",
      "Advertencia: No se encontró la imagen ISIC_0067218.jpg en la carpeta de ISIC 2019.\n",
      "Advertencia: No se encontró la imagen ISIC_0067246.jpg en la carpeta de ISIC 2019.\n"
     ]
    },
    {
     "name": "stderr",
     "output_type": "stream",
     "text": [
      "ISIC 2019:  85%|████████▌ | 21099/24703 [00:50<00:10, 349.77it/s]"
     ]
    },
    {
     "name": "stdout",
     "output_type": "stream",
     "text": [
      "Advertencia: No se encontró la imagen ISIC_0067266.jpg en la carpeta de ISIC 2019.\n",
      "Advertencia: No se encontró la imagen ISIC_0067297.jpg en la carpeta de ISIC 2019.\n",
      "Advertencia: No se encontró la imagen ISIC_0067304.jpg en la carpeta de ISIC 2019.\n",
      "Advertencia: No se encontró la imagen ISIC_0067314.jpg en la carpeta de ISIC 2019.\n",
      "Advertencia: No se encontró la imagen ISIC_0067364.jpg en la carpeta de ISIC 2019.\n",
      "Advertencia: No se encontró la imagen ISIC_0067377.jpg en la carpeta de ISIC 2019.\n",
      "Advertencia: No se encontró la imagen ISIC_0067394.jpg en la carpeta de ISIC 2019.\n"
     ]
    },
    {
     "name": "stderr",
     "output_type": "stream",
     "text": [
      "ISIC 2019:  86%|████████▌ | 21178/24703 [00:51<00:10, 344.40it/s]"
     ]
    },
    {
     "name": "stdout",
     "output_type": "stream",
     "text": [
      "Advertencia: No se encontró la imagen ISIC_0067425.jpg en la carpeta de ISIC 2019.\n",
      "Advertencia: No se encontró la imagen ISIC_0067432.jpg en la carpeta de ISIC 2019.\n",
      "Advertencia: No se encontró la imagen ISIC_0067450.jpg en la carpeta de ISIC 2019.\n",
      "Advertencia: No se encontró la imagen ISIC_0067468.jpg en la carpeta de ISIC 2019.\n",
      "Advertencia: No se encontró la imagen ISIC_0067490.jpg en la carpeta de ISIC 2019.\n",
      "Advertencia: No se encontró la imagen ISIC_0067500.jpg en la carpeta de ISIC 2019.\n"
     ]
    },
    {
     "name": "stderr",
     "output_type": "stream",
     "text": [
      "ISIC 2019:  86%|████████▌ | 21256/24703 [00:51<00:10, 317.41it/s]"
     ]
    },
    {
     "name": "stdout",
     "output_type": "stream",
     "text": [
      "Advertencia: No se encontró la imagen ISIC_0067519.jpg en la carpeta de ISIC 2019.\n",
      "Advertencia: No se encontró la imagen ISIC_0067570.jpg en la carpeta de ISIC 2019.\n",
      "Advertencia: No se encontró la imagen ISIC_0067592.jpg en la carpeta de ISIC 2019.\n",
      "Advertencia: No se encontró la imagen ISIC_0067604.jpg en la carpeta de ISIC 2019.\n",
      "Advertencia: No se encontró la imagen ISIC_0067632.jpg en la carpeta de ISIC 2019.\n",
      "Advertencia: No se encontró la imagen ISIC_0067647.jpg en la carpeta de ISIC 2019.\n"
     ]
    },
    {
     "name": "stderr",
     "output_type": "stream",
     "text": [
      "ISIC 2019:  86%|████████▋ | 21339/24703 [00:51<00:09, 348.51it/s]"
     ]
    },
    {
     "name": "stdout",
     "output_type": "stream",
     "text": [
      "Advertencia: No se encontró la imagen ISIC_0067676.jpg en la carpeta de ISIC 2019.\n",
      "Advertencia: No se encontró la imagen ISIC_0067698.jpg en la carpeta de ISIC 2019.\n",
      "Advertencia: No se encontró la imagen ISIC_0067728.jpg en la carpeta de ISIC 2019.\n",
      "Advertencia: No se encontró la imagen ISIC_0067755.jpg en la carpeta de ISIC 2019.\n",
      "Advertencia: No se encontró la imagen ISIC_0067759.jpg en la carpeta de ISIC 2019.\n",
      "Advertencia: No se encontró la imagen ISIC_0067783.jpg en la carpeta de ISIC 2019.\n"
     ]
    },
    {
     "name": "stderr",
     "output_type": "stream",
     "text": [
      "ISIC 2019:  87%|████████▋ | 21412/24703 [00:51<00:09, 341.40it/s]"
     ]
    },
    {
     "name": "stdout",
     "output_type": "stream",
     "text": [
      "Advertencia: No se encontró la imagen ISIC_0067799.jpg en la carpeta de ISIC 2019.\n",
      "Advertencia: No se encontró la imagen ISIC_0067855.jpg en la carpeta de ISIC 2019.\n",
      "Advertencia: No se encontró la imagen ISIC_0067887.jpg en la carpeta de ISIC 2019.\n"
     ]
    },
    {
     "name": "stderr",
     "output_type": "stream",
     "text": [
      "ISIC 2019:  87%|████████▋ | 21534/24703 [00:52<00:08, 373.86it/s]"
     ]
    },
    {
     "name": "stdout",
     "output_type": "stream",
     "text": [
      "Advertencia: No se encontró la imagen ISIC_0067945.jpg en la carpeta de ISIC 2019.\n",
      "Advertencia: No se encontró la imagen ISIC_0068014.jpg en la carpeta de ISIC 2019.\n",
      "Advertencia: No se encontró la imagen ISIC_0068072.jpg en la carpeta de ISIC 2019.\n",
      "Advertencia: No se encontró la imagen ISIC_0068086.jpg en la carpeta de ISIC 2019.\n"
     ]
    },
    {
     "name": "stderr",
     "output_type": "stream",
     "text": [
      "ISIC 2019:  87%|████████▋ | 21611/24703 [00:52<00:08, 358.83it/s]"
     ]
    },
    {
     "name": "stdout",
     "output_type": "stream",
     "text": [
      "Advertencia: No se encontró la imagen ISIC_0068092.jpg en la carpeta de ISIC 2019.\n",
      "Advertencia: No se encontró la imagen ISIC_0068175.jpg en la carpeta de ISIC 2019.\n"
     ]
    },
    {
     "name": "stderr",
     "output_type": "stream",
     "text": [
      "ISIC 2019:  88%|████████▊ | 21694/24703 [00:52<00:07, 381.30it/s]"
     ]
    },
    {
     "name": "stdout",
     "output_type": "stream",
     "text": [
      "Advertencia: No se encontró la imagen ISIC_0068232.jpg en la carpeta de ISIC 2019.\n",
      "Advertencia: No se encontró la imagen ISIC_0068325.jpg en la carpeta de ISIC 2019.\n",
      "Advertencia: No se encontró la imagen ISIC_0068354.jpg en la carpeta de ISIC 2019.\n",
      "Advertencia: No se encontró la imagen ISIC_0068360.jpg en la carpeta de ISIC 2019.\n",
      "Advertencia: No se encontró la imagen ISIC_0068370.jpg en la carpeta de ISIC 2019.\n",
      "Advertencia: No se encontró la imagen ISIC_0068377.jpg en la carpeta de ISIC 2019.\n"
     ]
    },
    {
     "name": "stderr",
     "output_type": "stream",
     "text": [
      "ISIC 2019:  88%|████████▊ | 21776/24703 [00:52<00:07, 371.30it/s]"
     ]
    },
    {
     "name": "stdout",
     "output_type": "stream",
     "text": [
      "Advertencia: No se encontró la imagen ISIC_0068395.jpg en la carpeta de ISIC 2019.\n",
      "Advertencia: No se encontró la imagen ISIC_0068419.jpg en la carpeta de ISIC 2019.\n",
      "Advertencia: No se encontró la imagen ISIC_0068507.jpg en la carpeta de ISIC 2019.\n"
     ]
    },
    {
     "name": "stderr",
     "output_type": "stream",
     "text": [
      "ISIC 2019:  88%|████████▊ | 21850/24703 [00:53<00:09, 311.58it/s]"
     ]
    },
    {
     "name": "stdout",
     "output_type": "stream",
     "text": [
      "Advertencia: No se encontró la imagen ISIC_0068522.jpg en la carpeta de ISIC 2019.\n",
      "Advertencia: No se encontró la imagen ISIC_0068546.jpg en la carpeta de ISIC 2019.\n",
      "Advertencia: No se encontró la imagen ISIC_0068571.jpg en la carpeta de ISIC 2019.\n",
      "Advertencia: No se encontró la imagen ISIC_0068607.jpg en la carpeta de ISIC 2019.\n"
     ]
    },
    {
     "name": "stderr",
     "output_type": "stream",
     "text": [
      "ISIC 2019:  89%|████████▊ | 21922/24703 [00:53<00:08, 328.04it/s]"
     ]
    },
    {
     "name": "stdout",
     "output_type": "stream",
     "text": [
      "Advertencia: No se encontró la imagen ISIC_0068626.jpg en la carpeta de ISIC 2019.\n",
      "Advertencia: No se encontró la imagen ISIC_0068648.jpg en la carpeta de ISIC 2019.\n",
      "Advertencia: No se encontró la imagen ISIC_0068653.jpg en la carpeta de ISIC 2019.\n",
      "Advertencia: No se encontró la imagen ISIC_0068722.jpg en la carpeta de ISIC 2019.\n"
     ]
    },
    {
     "name": "stderr",
     "output_type": "stream",
     "text": [
      "ISIC 2019:  89%|████████▉ | 22024/24703 [00:53<00:09, 288.49it/s]"
     ]
    },
    {
     "name": "stdout",
     "output_type": "stream",
     "text": [
      "Advertencia: No se encontró la imagen ISIC_0068797.jpg en la carpeta de ISIC 2019.\n",
      "Advertencia: No se encontró la imagen ISIC_0068805.jpg en la carpeta de ISIC 2019.\n",
      "Advertencia: No se encontró la imagen ISIC_0068812.jpg en la carpeta de ISIC 2019.\n",
      "Advertencia: No se encontró la imagen ISIC_0068823.jpg en la carpeta de ISIC 2019.\n",
      "Advertencia: No se encontró la imagen ISIC_0068843.jpg en la carpeta de ISIC 2019.\n",
      "Advertencia: No se encontró la imagen ISIC_0068845.jpg en la carpeta de ISIC 2019.\n",
      "Advertencia: No se encontró la imagen ISIC_0068879.jpg en la carpeta de ISIC 2019.\n",
      "Advertencia: No se encontró la imagen ISIC_0068885.jpg en la carpeta de ISIC 2019.\n",
      "Advertencia: No se encontró la imagen ISIC_0068892.jpg en la carpeta de ISIC 2019.\n"
     ]
    },
    {
     "name": "stderr",
     "output_type": "stream",
     "text": [
      "ISIC 2019:  90%|████████▉ | 22140/24703 [00:53<00:08, 310.64it/s]"
     ]
    },
    {
     "name": "stdout",
     "output_type": "stream",
     "text": [
      "Advertencia: No se encontró la imagen ISIC_0068973.jpg en la carpeta de ISIC 2019.\n",
      "Advertencia: No se encontró la imagen ISIC_0068977.jpg en la carpeta de ISIC 2019.\n",
      "Advertencia: No se encontró la imagen ISIC_0068989.jpg en la carpeta de ISIC 2019.\n",
      "Advertencia: No se encontró la imagen ISIC_0068995.jpg en la carpeta de ISIC 2019.\n",
      "Advertencia: No se encontró la imagen ISIC_0069027.jpg en la carpeta de ISIC 2019.\n",
      "Advertencia: No se encontró la imagen ISIC_0069043.jpg en la carpeta de ISIC 2019.\n"
     ]
    },
    {
     "name": "stderr",
     "output_type": "stream",
     "text": [
      "ISIC 2019:  90%|█████████ | 22245/24703 [00:54<00:07, 329.83it/s]"
     ]
    },
    {
     "name": "stdout",
     "output_type": "stream",
     "text": [
      "Advertencia: No se encontró la imagen ISIC_0069120.jpg en la carpeta de ISIC 2019.\n",
      "Advertencia: No se encontró la imagen ISIC_0069125.jpg en la carpeta de ISIC 2019.\n",
      "Advertencia: No se encontró la imagen ISIC_0069194.jpg en la carpeta de ISIC 2019.\n",
      "Advertencia: No se encontró la imagen ISIC_0069195.jpg en la carpeta de ISIC 2019.\n",
      "Advertencia: No se encontró la imagen ISIC_0069211.jpg en la carpeta de ISIC 2019.\n"
     ]
    },
    {
     "name": "stderr",
     "output_type": "stream",
     "text": [
      "ISIC 2019:  90%|█████████ | 22316/24703 [00:54<00:07, 319.69it/s]"
     ]
    },
    {
     "name": "stdout",
     "output_type": "stream",
     "text": [
      "Advertencia: No se encontró la imagen ISIC_0069265.jpg en la carpeta de ISIC 2019.\n",
      "Advertencia: No se encontró la imagen ISIC_0069269.jpg en la carpeta de ISIC 2019.\n",
      "Advertencia: No se encontró la imagen ISIC_0069282.jpg en la carpeta de ISIC 2019.\n",
      "Advertencia: No se encontró la imagen ISIC_0069283.jpg en la carpeta de ISIC 2019.\n",
      "Advertencia: No se encontró la imagen ISIC_0069289.jpg en la carpeta de ISIC 2019.\n",
      "Advertencia: No se encontró la imagen ISIC_0069352.jpg en la carpeta de ISIC 2019.\n"
     ]
    },
    {
     "name": "stderr",
     "output_type": "stream",
     "text": [
      "ISIC 2019:  91%|█████████ | 22429/24703 [00:54<00:06, 345.31it/s]"
     ]
    },
    {
     "name": "stdout",
     "output_type": "stream",
     "text": [
      "Advertencia: No se encontró la imagen ISIC_0069384.jpg en la carpeta de ISIC 2019.\n",
      "Advertencia: No se encontró la imagen ISIC_0069460.jpg en la carpeta de ISIC 2019.\n",
      "Advertencia: No se encontró la imagen ISIC_0069483.jpg en la carpeta de ISIC 2019.\n"
     ]
    },
    {
     "name": "stderr",
     "output_type": "stream",
     "text": [
      "ISIC 2019:  91%|█████████ | 22498/24703 [00:55<00:06, 317.83it/s]"
     ]
    },
    {
     "name": "stdout",
     "output_type": "stream",
     "text": [
      "Advertencia: No se encontró la imagen ISIC_0069518.jpg en la carpeta de ISIC 2019.\n",
      "Advertencia: No se encontró la imagen ISIC_0069532.jpg en la carpeta de ISIC 2019.\n",
      "Advertencia: No se encontró la imagen ISIC_0069544.jpg en la carpeta de ISIC 2019.\n",
      "Advertencia: No se encontró la imagen ISIC_0069614.jpg en la carpeta de ISIC 2019.\n"
     ]
    },
    {
     "name": "stderr",
     "output_type": "stream",
     "text": [
      "ISIC 2019:  91%|█████████▏| 22582/24703 [00:55<00:05, 366.05it/s]"
     ]
    },
    {
     "name": "stdout",
     "output_type": "stream",
     "text": [
      "Advertencia: No se encontró la imagen ISIC_0069629.jpg en la carpeta de ISIC 2019.\n",
      "Advertencia: No se encontró la imagen ISIC_0069630.jpg en la carpeta de ISIC 2019.\n",
      "Advertencia: No se encontró la imagen ISIC_0069685.jpg en la carpeta de ISIC 2019.\n",
      "Advertencia: No se encontró la imagen ISIC_0069719.jpg en la carpeta de ISIC 2019.\n",
      "Advertencia: No se encontró la imagen ISIC_0069755.jpg en la carpeta de ISIC 2019.\n",
      "Advertencia: No se encontró la imagen ISIC_0069759.jpg en la carpeta de ISIC 2019.\n",
      "Advertencia: No se encontró la imagen ISIC_0069769.jpg en la carpeta de ISIC 2019.\n",
      "Advertencia: No se encontró la imagen ISIC_0069772.jpg en la carpeta de ISIC 2019.\n",
      "Advertencia: No se encontró la imagen ISIC_0069789.jpg en la carpeta de ISIC 2019.\n"
     ]
    },
    {
     "name": "stderr",
     "output_type": "stream",
     "text": [
      "ISIC 2019:  92%|█████████▏| 22663/24703 [00:55<00:05, 376.30it/s]"
     ]
    },
    {
     "name": "stdout",
     "output_type": "stream",
     "text": [
      "Advertencia: No se encontró la imagen ISIC_0069802.jpg en la carpeta de ISIC 2019.\n",
      "Advertencia: No se encontró la imagen ISIC_0069818.jpg en la carpeta de ISIC 2019.\n",
      "Advertencia: No se encontró la imagen ISIC_0069863.jpg en la carpeta de ISIC 2019.\n",
      "Advertencia: No se encontró la imagen ISIC_0069869.jpg en la carpeta de ISIC 2019.\n",
      "Advertencia: No se encontró la imagen ISIC_0069898.jpg en la carpeta de ISIC 2019.\n",
      "Advertencia: No se encontró la imagen ISIC_0069904.jpg en la carpeta de ISIC 2019.\n",
      "Advertencia: No se encontró la imagen ISIC_0069906.jpg en la carpeta de ISIC 2019.\n",
      "Advertencia: No se encontró la imagen ISIC_0069916.jpg en la carpeta de ISIC 2019.\n",
      "Advertencia: No se encontró la imagen ISIC_0069917.jpg en la carpeta de ISIC 2019.\n",
      "Advertencia: No se encontró la imagen ISIC_0069925.jpg en la carpeta de ISIC 2019.\n"
     ]
    },
    {
     "name": "stderr",
     "output_type": "stream",
     "text": [
      "ISIC 2019:  92%|█████████▏| 22744/24703 [00:55<00:05, 342.44it/s]"
     ]
    },
    {
     "name": "stdout",
     "output_type": "stream",
     "text": [
      "Advertencia: No se encontró la imagen ISIC_0069931.jpg en la carpeta de ISIC 2019.\n",
      "Advertencia: No se encontró la imagen ISIC_0069932.jpg en la carpeta de ISIC 2019.\n",
      "Advertencia: No se encontró la imagen ISIC_0069939.jpg en la carpeta de ISIC 2019.\n",
      "Advertencia: No se encontró la imagen ISIC_0069942.jpg en la carpeta de ISIC 2019.\n",
      "Advertencia: No se encontró la imagen ISIC_0070014.jpg en la carpeta de ISIC 2019.\n"
     ]
    },
    {
     "name": "stderr",
     "output_type": "stream",
     "text": [
      "ISIC 2019:  92%|█████████▏| 22831/24703 [00:55<00:04, 385.35it/s]"
     ]
    },
    {
     "name": "stdout",
     "output_type": "stream",
     "text": [
      "Advertencia: No se encontró la imagen ISIC_0070056.jpg en la carpeta de ISIC 2019.\n",
      "Advertencia: No se encontró la imagen ISIC_0070085.jpg en la carpeta de ISIC 2019.\n",
      "Advertencia: No se encontró la imagen ISIC_0070116.jpg en la carpeta de ISIC 2019.\n",
      "Advertencia: No se encontró la imagen ISIC_0070143.jpg en la carpeta de ISIC 2019.\n",
      "Advertencia: No se encontró la imagen ISIC_0070164.jpg en la carpeta de ISIC 2019.\n",
      "Advertencia: No se encontró la imagen ISIC_0070175.jpg en la carpeta de ISIC 2019.\n",
      "Advertencia: No se encontró la imagen ISIC_0070195.jpg en la carpeta de ISIC 2019.\n",
      "Advertencia: No se encontró la imagen ISIC_0070200.jpg en la carpeta de ISIC 2019.\n"
     ]
    },
    {
     "name": "stderr",
     "output_type": "stream",
     "text": [
      "ISIC 2019:  93%|█████████▎| 22909/24703 [00:56<00:05, 356.82it/s]"
     ]
    },
    {
     "name": "stdout",
     "output_type": "stream",
     "text": [
      "Advertencia: No se encontró la imagen ISIC_0070232.jpg en la carpeta de ISIC 2019.\n",
      "Advertencia: No se encontró la imagen ISIC_0070243.jpg en la carpeta de ISIC 2019.\n",
      "Advertencia: No se encontró la imagen ISIC_0070256.jpg en la carpeta de ISIC 2019.\n",
      "Advertencia: No se encontró la imagen ISIC_0070260.jpg en la carpeta de ISIC 2019.\n",
      "Advertencia: No se encontró la imagen ISIC_0070297.jpg en la carpeta de ISIC 2019.\n",
      "Advertencia: No se encontró la imagen ISIC_0070302.jpg en la carpeta de ISIC 2019.\n",
      "Advertencia: No se encontró la imagen ISIC_0070305.jpg en la carpeta de ISIC 2019.\n",
      "Advertencia: No se encontró la imagen ISIC_0070311.jpg en la carpeta de ISIC 2019.\n",
      "Advertencia: No se encontró la imagen ISIC_0070321.jpg en la carpeta de ISIC 2019.\n"
     ]
    },
    {
     "name": "stderr",
     "output_type": "stream",
     "text": [
      "ISIC 2019:  93%|█████████▎| 23035/24703 [00:56<00:04, 390.26it/s]"
     ]
    },
    {
     "name": "stdout",
     "output_type": "stream",
     "text": [
      "Advertencia: No se encontró la imagen ISIC_0070379.jpg en la carpeta de ISIC 2019.\n",
      "Advertencia: No se encontró la imagen ISIC_0070462.jpg en la carpeta de ISIC 2019.\n",
      "Advertencia: No se encontró la imagen ISIC_0070484.jpg en la carpeta de ISIC 2019.\n",
      "Advertencia: No se encontró la imagen ISIC_0070486.jpg en la carpeta de ISIC 2019.\n",
      "Advertencia: No se encontró la imagen ISIC_0070499.jpg en la carpeta de ISIC 2019.\n",
      "Advertencia: No se encontró la imagen ISIC_0070505.jpg en la carpeta de ISIC 2019.\n",
      "Advertencia: No se encontró la imagen ISIC_0070507.jpg en la carpeta de ISIC 2019.\n",
      "Advertencia: No se encontró la imagen ISIC_0070510.jpg en la carpeta de ISIC 2019.\n",
      "Advertencia: No se encontró la imagen ISIC_0070545.jpg en la carpeta de ISIC 2019.\n"
     ]
    },
    {
     "name": "stderr",
     "output_type": "stream",
     "text": [
      "ISIC 2019:  94%|█████████▎| 23152/24703 [00:56<00:04, 357.73it/s]"
     ]
    },
    {
     "name": "stdout",
     "output_type": "stream",
     "text": [
      "Advertencia: No se encontró la imagen ISIC_0070643.jpg en la carpeta de ISIC 2019.\n",
      "Advertencia: No se encontró la imagen ISIC_0070650.jpg en la carpeta de ISIC 2019.\n",
      "Advertencia: No se encontró la imagen ISIC_0070691.jpg en la carpeta de ISIC 2019.\n",
      "Advertencia: No se encontró la imagen ISIC_0070713.jpg en la carpeta de ISIC 2019.\n",
      "Advertencia: No se encontró la imagen ISIC_0070737.jpg en la carpeta de ISIC 2019.\n"
     ]
    },
    {
     "name": "stderr",
     "output_type": "stream",
     "text": [
      "ISIC 2019:  94%|█████████▍| 23226/24703 [00:57<00:04, 329.65it/s]"
     ]
    },
    {
     "name": "stdout",
     "output_type": "stream",
     "text": [
      "Advertencia: No se encontró la imagen ISIC_0070754.jpg en la carpeta de ISIC 2019.\n"
     ]
    },
    {
     "name": "stderr",
     "output_type": "stream",
     "text": [
      "ISIC 2019:  94%|█████████▍| 23306/24703 [00:57<00:03, 362.62it/s]"
     ]
    },
    {
     "name": "stdout",
     "output_type": "stream",
     "text": [
      "Advertencia: No se encontró la imagen ISIC_0070877.jpg en la carpeta de ISIC 2019.\n",
      "Advertencia: No se encontró la imagen ISIC_0070895.jpg en la carpeta de ISIC 2019.\n",
      "Advertencia: No se encontró la imagen ISIC_0070922.jpg en la carpeta de ISIC 2019.\n",
      "Advertencia: No se encontró la imagen ISIC_0070981.jpg en la carpeta de ISIC 2019.\n",
      "Advertencia: No se encontró la imagen ISIC_0070993.jpg en la carpeta de ISIC 2019.\n",
      "Advertencia: No se encontró la imagen ISIC_0070999.jpg en la carpeta de ISIC 2019.\n"
     ]
    },
    {
     "name": "stderr",
     "output_type": "stream",
     "text": [
      "ISIC 2019:  95%|█████████▍| 23384/24703 [00:57<00:03, 367.08it/s]"
     ]
    },
    {
     "name": "stdout",
     "output_type": "stream",
     "text": [
      "Advertencia: No se encontró la imagen ISIC_0071007.jpg en la carpeta de ISIC 2019.\n",
      "Advertencia: No se encontró la imagen ISIC_0071015.jpg en la carpeta de ISIC 2019.\n",
      "Advertencia: No se encontró la imagen ISIC_0071020.jpg en la carpeta de ISIC 2019.\n",
      "Advertencia: No se encontró la imagen ISIC_0071062.jpg en la carpeta de ISIC 2019.\n",
      "Advertencia: No se encontró la imagen ISIC_0071093.jpg en la carpeta de ISIC 2019.\n",
      "Advertencia: No se encontró la imagen ISIC_0071108.jpg en la carpeta de ISIC 2019.\n"
     ]
    },
    {
     "name": "stderr",
     "output_type": "stream",
     "text": [
      "ISIC 2019:  95%|█████████▌| 23494/24703 [00:57<00:03, 317.26it/s]"
     ]
    },
    {
     "name": "stdout",
     "output_type": "stream",
     "text": [
      "Advertencia: No se encontró la imagen ISIC_0071186.jpg en la carpeta de ISIC 2019.\n",
      "Advertencia: No se encontró la imagen ISIC_0071213.jpg en la carpeta de ISIC 2019.\n",
      "Advertencia: No se encontró la imagen ISIC_0071256.jpg en la carpeta de ISIC 2019.\n",
      "Advertencia: No se encontró la imagen ISIC_0071313.jpg en la carpeta de ISIC 2019.\n",
      "Advertencia: No se encontró la imagen ISIC_0071320.jpg en la carpeta de ISIC 2019.\n",
      "Advertencia: No se encontró la imagen ISIC_0071339.jpg en la carpeta de ISIC 2019.\n"
     ]
    },
    {
     "name": "stderr",
     "output_type": "stream",
     "text": [
      "ISIC 2019:  95%|█████████▌| 23574/24703 [00:58<00:03, 309.03it/s]"
     ]
    },
    {
     "name": "stdout",
     "output_type": "stream",
     "text": [
      "Advertencia: No se encontró la imagen ISIC_0071417.jpg en la carpeta de ISIC 2019.\n",
      "Advertencia: No se encontró la imagen ISIC_0071423.jpg en la carpeta de ISIC 2019.\n",
      "Advertencia: No se encontró la imagen ISIC_0071440.jpg en la carpeta de ISIC 2019.\n",
      "Advertencia: No se encontró la imagen ISIC_0071444.jpg en la carpeta de ISIC 2019.\n",
      "Advertencia: No se encontró la imagen ISIC_0071449.jpg en la carpeta de ISIC 2019.\n"
     ]
    },
    {
     "name": "stderr",
     "output_type": "stream",
     "text": [
      "ISIC 2019:  96%|█████████▌| 23684/24703 [00:58<00:03, 299.10it/s]"
     ]
    },
    {
     "name": "stdout",
     "output_type": "stream",
     "text": [
      "Advertencia: No se encontró la imagen ISIC_0071490.jpg en la carpeta de ISIC 2019.\n",
      "Advertencia: No se encontró la imagen ISIC_0071500.jpg en la carpeta de ISIC 2019.\n",
      "Advertencia: No se encontró la imagen ISIC_0071524.jpg en la carpeta de ISIC 2019.\n",
      "Advertencia: No se encontró la imagen ISIC_0071535.jpg en la carpeta de ISIC 2019.\n",
      "Advertencia: No se encontró la imagen ISIC_0071605.jpg en la carpeta de ISIC 2019.\n",
      "Advertencia: No se encontró la imagen ISIC_0071606.jpg en la carpeta de ISIC 2019.\n",
      "Advertencia: No se encontró la imagen ISIC_0071609.jpg en la carpeta de ISIC 2019.\n",
      "Advertencia: No se encontró la imagen ISIC_0071619.jpg en la carpeta de ISIC 2019.\n"
     ]
    },
    {
     "name": "stderr",
     "output_type": "stream",
     "text": [
      "ISIC 2019:  96%|█████████▌| 23761/24703 [00:58<00:02, 327.29it/s]"
     ]
    },
    {
     "name": "stdout",
     "output_type": "stream",
     "text": [
      "Advertencia: No se encontró la imagen ISIC_0071669.jpg en la carpeta de ISIC 2019.\n",
      "Advertencia: No se encontró la imagen ISIC_0071671.jpg en la carpeta de ISIC 2019.\n",
      "Advertencia: No se encontró la imagen ISIC_0071690.jpg en la carpeta de ISIC 2019.\n",
      "Advertencia: No se encontró la imagen ISIC_0071711.jpg en la carpeta de ISIC 2019.\n",
      "Advertencia: No se encontró la imagen ISIC_0071762.jpg en la carpeta de ISIC 2019.\n",
      "Advertencia: No se encontró la imagen ISIC_0071772.jpg en la carpeta de ISIC 2019.\n",
      "Advertencia: No se encontró la imagen ISIC_0071779.jpg en la carpeta de ISIC 2019.\n"
     ]
    },
    {
     "name": "stderr",
     "output_type": "stream",
     "text": [
      "ISIC 2019:  97%|█████████▋| 23869/24703 [00:59<00:02, 311.79it/s]"
     ]
    },
    {
     "name": "stdout",
     "output_type": "stream",
     "text": [
      "Advertencia: No se encontró la imagen ISIC_0071830.jpg en la carpeta de ISIC 2019.\n",
      "Advertencia: No se encontró la imagen ISIC_0071889.jpg en la carpeta de ISIC 2019.\n"
     ]
    },
    {
     "name": "stderr",
     "output_type": "stream",
     "text": [
      "ISIC 2019:  97%|█████████▋| 23953/24703 [00:59<00:02, 361.17it/s]"
     ]
    },
    {
     "name": "stdout",
     "output_type": "stream",
     "text": [
      "Advertencia: No se encontró la imagen ISIC_0071932.jpg en la carpeta de ISIC 2019.\n",
      "Advertencia: No se encontró la imagen ISIC_0071946.jpg en la carpeta de ISIC 2019.\n",
      "Advertencia: No se encontró la imagen ISIC_0071953.jpg en la carpeta de ISIC 2019.\n",
      "Advertencia: No se encontró la imagen ISIC_0071982.jpg en la carpeta de ISIC 2019.\n",
      "Advertencia: No se encontró la imagen ISIC_0072018.jpg en la carpeta de ISIC 2019.\n",
      "Advertencia: No se encontró la imagen ISIC_0072038.jpg en la carpeta de ISIC 2019.\n"
     ]
    },
    {
     "name": "stderr",
     "output_type": "stream",
     "text": [
      "ISIC 2019:  97%|█████████▋| 24027/24703 [00:59<00:01, 356.94it/s]"
     ]
    },
    {
     "name": "stdout",
     "output_type": "stream",
     "text": [
      "Advertencia: No se encontró la imagen ISIC_0072089.jpg en la carpeta de ISIC 2019.\n",
      "Advertencia: No se encontró la imagen ISIC_0072107.jpg en la carpeta de ISIC 2019.\n",
      "Advertencia: No se encontró la imagen ISIC_0072152.jpg en la carpeta de ISIC 2019.\n",
      "Advertencia: No se encontró la imagen ISIC_0072169.jpg en la carpeta de ISIC 2019.\n"
     ]
    },
    {
     "name": "stderr",
     "output_type": "stream",
     "text": [
      "ISIC 2019:  98%|█████████▊| 24110/24703 [00:59<00:01, 328.95it/s]"
     ]
    },
    {
     "name": "stdout",
     "output_type": "stream",
     "text": [
      "Advertencia: No se encontró la imagen ISIC_0072180.jpg en la carpeta de ISIC 2019.\n",
      "Advertencia: No se encontró la imagen ISIC_0072205.jpg en la carpeta de ISIC 2019.\n",
      "Advertencia: No se encontró la imagen ISIC_0072265.jpg en la carpeta de ISIC 2019.\n",
      "Advertencia: No se encontró la imagen ISIC_0072307.jpg en la carpeta de ISIC 2019.\n"
     ]
    },
    {
     "name": "stderr",
     "output_type": "stream",
     "text": [
      "ISIC 2019:  98%|█████████▊| 24190/24703 [00:59<00:01, 349.24it/s]"
     ]
    },
    {
     "name": "stdout",
     "output_type": "stream",
     "text": [
      "Advertencia: No se encontró la imagen ISIC_0072352.jpg en la carpeta de ISIC 2019.\n",
      "Advertencia: No se encontró la imagen ISIC_0072364.jpg en la carpeta de ISIC 2019.\n"
     ]
    },
    {
     "name": "stderr",
     "output_type": "stream",
     "text": [
      "ISIC 2019:  98%|█████████▊| 24298/24703 [01:00<00:01, 342.22it/s]"
     ]
    },
    {
     "name": "stdout",
     "output_type": "stream",
     "text": [
      "Advertencia: No se encontró la imagen ISIC_0072514.jpg en la carpeta de ISIC 2019.\n",
      "Advertencia: No se encontró la imagen ISIC_0072572.jpg en la carpeta de ISIC 2019.\n",
      "Advertencia: No se encontró la imagen ISIC_0072584.jpg en la carpeta de ISIC 2019.\n"
     ]
    },
    {
     "name": "stderr",
     "output_type": "stream",
     "text": [
      "ISIC 2019:  99%|█████████▊| 24368/24703 [01:00<00:00, 337.62it/s]"
     ]
    },
    {
     "name": "stdout",
     "output_type": "stream",
     "text": [
      "Advertencia: No se encontró la imagen ISIC_0072646.jpg en la carpeta de ISIC 2019.\n",
      "Advertencia: No se encontró la imagen ISIC_0072652.jpg en la carpeta de ISIC 2019.\n",
      "Advertencia: No se encontró la imagen ISIC_0072676.jpg en la carpeta de ISIC 2019.\n",
      "Advertencia: No se encontró la imagen ISIC_0072716.jpg en la carpeta de ISIC 2019.\n",
      "Advertencia: No se encontró la imagen ISIC_0072741.jpg en la carpeta de ISIC 2019.\n",
      "Advertencia: No se encontró la imagen ISIC_0072754.jpg en la carpeta de ISIC 2019.\n"
     ]
    },
    {
     "name": "stderr",
     "output_type": "stream",
     "text": [
      "ISIC 2019:  99%|█████████▉| 24439/24703 [01:00<00:00, 337.53it/s]"
     ]
    },
    {
     "name": "stdout",
     "output_type": "stream",
     "text": [
      "Advertencia: No se encontró la imagen ISIC_0072788.jpg en la carpeta de ISIC 2019.\n",
      "Advertencia: No se encontró la imagen ISIC_0072814.jpg en la carpeta de ISIC 2019.\n",
      "Advertencia: No se encontró la imagen ISIC_0072830.jpg en la carpeta de ISIC 2019.\n",
      "Advertencia: No se encontró la imagen ISIC_0072847.jpg en la carpeta de ISIC 2019.\n"
     ]
    },
    {
     "name": "stderr",
     "output_type": "stream",
     "text": [
      "ISIC 2019:  99%|█████████▉| 24517/24703 [01:01<00:00, 305.71it/s]"
     ]
    },
    {
     "name": "stdout",
     "output_type": "stream",
     "text": [
      "Advertencia: No se encontró la imagen ISIC_0072854.jpg en la carpeta de ISIC 2019.\n",
      "Advertencia: No se encontró la imagen ISIC_0072861.jpg en la carpeta de ISIC 2019.\n",
      "Advertencia: No se encontró la imagen ISIC_0072932.jpg en la carpeta de ISIC 2019.\n",
      "Advertencia: No se encontró la imagen ISIC_0072940.jpg en la carpeta de ISIC 2019.\n",
      "Advertencia: No se encontró la imagen ISIC_0072986.jpg en la carpeta de ISIC 2019.\n",
      "Advertencia: No se encontró la imagen ISIC_0072992.jpg en la carpeta de ISIC 2019.\n"
     ]
    },
    {
     "name": "stderr",
     "output_type": "stream",
     "text": [
      "ISIC 2019: 100%|█████████▉| 24592/24703 [01:01<00:00, 332.81it/s]"
     ]
    },
    {
     "name": "stdout",
     "output_type": "stream",
     "text": [
      "Advertencia: No se encontró la imagen ISIC_0073035.jpg en la carpeta de ISIC 2019.\n",
      "Advertencia: No se encontró la imagen ISIC_0073045.jpg en la carpeta de ISIC 2019.\n",
      "Advertencia: No se encontró la imagen ISIC_0073068.jpg en la carpeta de ISIC 2019.\n"
     ]
    },
    {
     "name": "stderr",
     "output_type": "stream",
     "text": [
      "ISIC 2019: 100%|██████████| 24703/24703 [01:01<00:00, 400.57it/s]"
     ]
    },
    {
     "name": "stdout",
     "output_type": "stream",
     "text": [
      "Advertencia: No se encontró la imagen ISIC_0073130.jpg en la carpeta de ISIC 2019.\n",
      "Advertencia: No se encontró la imagen ISIC_0073153.jpg en la carpeta de ISIC 2019.\n",
      "Advertencia: No se encontró la imagen ISIC_0073157.jpg en la carpeta de ISIC 2019.\n",
      "Advertencia: No se encontró la imagen ISIC_0073198.jpg en la carpeta de ISIC 2019.\n",
      "Advertencia: No se encontró la imagen ISIC_0073214.jpg en la carpeta de ISIC 2019.\n",
      "Advertencia: No se encontró la imagen ISIC_0073224.jpg en la carpeta de ISIC 2019.\n",
      "--- Procesamiento de ISIC 2019 finalizado. ---\n"
     ]
    },
    {
     "name": "stderr",
     "output_type": "stream",
     "text": [
      "\n"
     ]
    }
   ],
   "execution_count": 15
  },
  {
   "metadata": {
    "ExecuteTime": {
     "end_time": "2025-09-24T16:11:25.571526Z",
     "start_time": "2025-09-24T16:11:25.495398Z"
    }
   },
   "cell_type": "code",
   "source": [
    "verify_unification()\n",
    "\n",
    "print(\"\\n¡Proceso de unificación completado! 🚀\")"
   ],
   "id": "509e70e2d583c869",
   "outputs": [
    {
     "name": "stdout",
     "output_type": "stream",
     "text": [
      "\n",
      "--- ✅ Verificación del Dataset Unificado ---\n",
      "Conteo de imágenes por clase en el dataset unificado:\n",
      "  - akiec     : 327 imágenes\n",
      "  - bcc       : 3323 imágenes\n",
      "  - bkl       : 2624 imágenes\n",
      "  - df        : 239 imágenes\n",
      "  - mel       : 4522 imágenes\n",
      "  - nv        : 12875 imágenes\n",
      "  - vasc      : 253 imágenes\n",
      "-----------------------------------------\n",
      "Total de imágenes: 24163\n",
      "\n",
      "¡Proceso de unificación completado! 🚀\n"
     ]
    }
   ],
   "execution_count": 16
  }
 ],
 "metadata": {
  "kernelspec": {
   "display_name": "Python 3",
   "language": "python",
   "name": "python3"
  },
  "language_info": {
   "codemirror_mode": {
    "name": "ipython",
    "version": 2
   },
   "file_extension": ".py",
   "mimetype": "text/x-python",
   "name": "python",
   "nbconvert_exporter": "python",
   "pygments_lexer": "ipython2",
   "version": "2.7.6"
  }
 },
 "nbformat": 4,
 "nbformat_minor": 5
}
